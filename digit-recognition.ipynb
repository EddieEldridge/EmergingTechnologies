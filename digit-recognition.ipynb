{
 "cells": [
  {
   "cell_type": "markdown",
   "metadata": {},
   "source": [
    "<h1><center> About the MNIST dataset</center></h1>"
   ]
  },
  {
   "cell_type": "markdown",
   "metadata": {},
   "source": [
    "In our previous notebook, we looked at how to read in the MNIST Dataset from the zip files provided on the MNIST website. Now that we have the image files, we can start to create our neural network that will take in an image from the MNIST dataset and tell us what the number in the image is without using the labels set. "
   ]
  },
  {
   "cell_type": "markdown",
   "metadata": {},
   "source": [
    "We can do this in steps, similar to our Iris datset. The first step will be to create the neural network. In this example, we already know how to read and save the images contained in the dataset, so let's use TensorFlow's built in MNIST dataset so we don't have to repeat this operation in this notebook also."
   ]
  },
  {
   "cell_type": "markdown",
   "metadata": {},
   "source": [
    "![ml_map.png](attachment:ml_map.png)"
   ]
  },
  {
   "cell_type": "markdown",
   "metadata": {},
   "source": [
    "<h1><center> MNIST - Linear Classifier</center></h1>"
   ]
  },
  {
   "cell_type": "markdown",
   "metadata": {},
   "source": [
    "<h1>1. Setup data</h1>"
   ]
  },
  {
   "cell_type": "code",
   "execution_count": 1,
   "metadata": {},
   "outputs": [
    {
     "name": "stdout",
     "output_type": "stream",
     "text": [
      "Extracting MNIST-data\\train-images-idx3-ubyte.gz\n",
      "Extracting MNIST-data\\train-labels-idx1-ubyte.gz\n",
      "Extracting MNIST-data\\t10k-images-idx3-ubyte.gz\n",
      "Extracting MNIST-data\\t10k-labels-idx1-ubyte.gz\n"
     ]
    }
   ],
   "source": [
    "# Import numpy\n",
    "import numpy as np\n",
    "\n",
    "# Import tensorflow as tf\n",
    "import tensorflow as tf\n",
    "\n",
    "# Import matplotlib as plt\n",
    "import matplotlib.pyplot as plt\n",
    "\n",
    "# Run this line to prevent unecessary errors showing when using Tensorflow\n",
    "tf.logging.set_verbosity(tf.logging.ERROR)\n",
    "\n",
    "learn = tf.contrib.learn\n",
    "\n",
    "# Load the mnist dataset from TensorFlow\n",
    "mnist = learn.datasets.load_dataset('mnist')"
   ]
  },
  {
   "cell_type": "markdown",
   "metadata": {},
   "source": [
    "<h1>2. Create training and test set</h1>\n",
    "\n",
    "    * Training Set - 55,000 images\n",
    "    * Test Set - 10,000 images"
   ]
  },
  {
   "cell_type": "code",
   "execution_count": 2,
   "metadata": {},
   "outputs": [],
   "source": [
    "# Define trainData as the training set of images from MNIST\n",
    "trainData = mnist.train.images\n",
    "\n",
    "# Define trainLabels as the training set of labels from MNIST\n",
    "trainLabels = np.asarray(mnist.train.labels, dtype=np.int32)\n",
    "\n",
    "# Define testData as the testing set of images from MNIST\n",
    "testData = mnist.test.images\n",
    "\n",
    "# Define testData as the testing set of images from MNIST\n",
    "testLabels = np.asarray(mnist.test.labels, dtype=np.int32)"
   ]
  },
  {
   "cell_type": "markdown",
   "metadata": {},
   "source": [
    "Let's show an image from the data we just loaded in to make sure everything is working properly. Let's create a function that will do this incase we need to display an image again later on."
   ]
  },
  {
   "cell_type": "code",
   "execution_count": 3,
   "metadata": {},
   "outputs": [],
   "source": [
    "def displayImage(i):\n",
    "    img = testData[i]\n",
    "    plt.title('Image: %d Label: %d' % (i, testLabels[i]))\n",
    "    plt.imshow(img.reshape(28,28), cmap=plt.cm.gray_r)"
   ]
  },
  {
   "cell_type": "code",
   "execution_count": null,
   "metadata": {},
   "outputs": [
    {
     "data": {
      "image/png": "[encoded data removed]",
      "text/plain": [
       "<Figure size 432x288 with 1 Axes>"
      ]
     },
     "metadata": {
      "needs_background": "light"
     },
     "output_type": "display_data"
    }
   ],
   "source": [
    "displayImage(0)"
   ]
  },
  {
   "cell_type": "markdown",
   "metadata": {},
   "source": [
    "Okay, so now we have the dataset set-up correctly. We know this as in our previous notebook, the first image from the MNIST dataset is a 7 and passing in a value of 0 (the first image in the dataset) to our displayImage() function, we can see it shows a seven correctly. Our next step is to create a classifier for our dataset."
   ]
  },
  {
   "cell_type": "markdown",
   "metadata": {},
   "source": [
    "<h1>\n",
    "3. Create Classifier\n",
    "</h1>"
   ]
  },
  {
   "cell_type": "markdown",
   "metadata": {},
   "source": [
    "For this example, we are going to use a linear classififer. Now, you may be asking yourself. What is a linear classifier and why are we using it in this example? I think this is important to understand so I am going to include some information at the end of this notebook explaining how a linear classifier works and why we chose it."
   ]
  },
  {
   "cell_type": "code",
   "execution_count": null,
   "metadata": {},
   "outputs": [
    {
     "data": {
      "text/plain": [
       "LinearClassifier(params={'head': <tensorflow.contrib.learn.python.learn.estimators.head._MultiClassHead object at 0x00000211000BF400>, 'feature_columns': [_RealValuedColumn(column_name='', dimension=784, default_value=None, dtype=tf.float32, normalizer=None)], 'optimizer': None, 'gradient_clip_norm': None, 'joint_weights': False})"
      ]
     },
     "execution_count": 5,
     "metadata": {},
     "output_type": "execute_result"
    }
   ],
   "source": [
    "# Create a variable called feature_columns\n",
    "# https://www.tensorflow.org/guide/feature_columns\n",
    "feature_columns = learn.infer_real_valued_columns_from_input(trainData)\n",
    "\n",
    "# Create our classifier using TensorFlow's LinearClassifier function\n",
    "# We give this classifier 10 classes as the there are 10 outputs for our dataset (0..9)\n",
    "linearClassifier = learn.LinearClassifier(feature_columns=feature_columns, n_classes=10)\n",
    "\n",
    "# Tell TensorFlow to fit the classifier with the training set and corresponding labels in batches of 100\n",
    "# https://www.tensorflow.org/api_docs/python/tf/keras/models/Model#fit\n",
    "linearClassifier.fit(trainData, trainLabels, batch_size=100, steps=1000)"
   ]
  },
  {
   "cell_type": "markdown",
   "metadata": {},
   "source": [
    "<h1>\n",
    "4. Evaluate Accuracy\n",
    "</h1>"
   ]
  },
  {
   "cell_type": "code",
   "execution_count": null,
   "metadata": {},
   "outputs": [
    {
     "name": "stdout",
     "output_type": "stream",
     "text": [
      "0.9216\n"
     ]
    }
   ],
   "source": [
    "# Evaluate the accuray of our classifier after using the fit function above\n",
    "# https://www.tensorflow.org/api_docs/python/tf/contrib/learn/evaluate\n",
    "linearClassifier.evaluate(testData, testLabels)\n",
    "\n",
    "# Print the accuracy of our fit method as a percentage\n",
    "percentageAccuracy = (linearClassifier.evaluate(testData, testLabels)[\"accuracy\"])\n",
    "print(percentageAccuracy)"
   ]
  },
  {
   "cell_type": "markdown",
   "metadata": {},
   "source": [
    "\n",
    "\n",
    "We can see the accuracy lies at around 90 percent. This is good and a better score could be achieved by using deep learning. For now, we are happy with this score so let's see if it actually is accurate by using TensorFlows predict function a few images that we know the correct output.\n"
   ]
  },
  {
   "cell_type": "markdown",
   "metadata": {},
   "source": [
    "<h1>\n",
    "5. Test with sample images\n",
    "</h1>"
   ]
  },
  {
   "cell_type": "code",
   "execution_count": null,
   "metadata": {},
   "outputs": [
    {
     "name": "stdout",
     "output_type": "stream",
     "text": [
      "Predicted:  [7]\n"
     ]
    },
    {
     "data": {
      "image/png": "[encoded data removed]",
      "text/plain": [
       "<Figure size 432x288 with 1 Axes>"
      ]
     },
     "metadata": {
      "needs_background": "light"
     },
     "output_type": "display_data"
    }
   ],
   "source": [
    "# Create a varible that can we can change easily to select an image\n",
    "imageNum = 0\n",
    "\n",
    "# Make a prediction using Tensorflow and our classifier we created above from our testData\n",
    "prediction = linearClassifier.predict(np.array([testData[imageNum]], dtype=float), as_iterable=False)\n",
    "\n",
    "# Print our prediction and display the actual image we are trying to predict\n",
    "print(\"Predicted: \", prediction)\n",
    "displayImage(imageNum)"
   ]
  },
  {
   "cell_type": "code",
   "execution_count": null,
   "metadata": {},
   "outputs": [
    {
     "name": "stdout",
     "output_type": "stream",
     "text": [
      "Predicted:  [5]\n"
     ]
    },
    {
     "data": {
      "image/png": "[encoded data removed]",
      "text/plain": [
       "<Figure size 432x288 with 1 Axes>"
      ]
     },
     "metadata": {
      "needs_background": "light"
     },
     "output_type": "display_data"
    }
   ],
   "source": [
    "# Create a varible that can we can change easily to select an image\n",
    "imageNum = 569\n",
    "\n",
    "# Make a prediction using Tensorflow and our classifier we created above from our testData\n",
    "prediction = linearClassifier.predict(np.array([testData[imageNum]], dtype=float), as_iterable=False)\n",
    "\n",
    "# Print our prediction and display the actual image we are trying to predict\n",
    "print(\"Predicted: \", prediction)\n",
    "displayImage(imageNum)"
   ]
  },
  {
   "cell_type": "code",
   "execution_count": null,
   "metadata": {},
   "outputs": [
    {
     "name": "stdout",
     "output_type": "stream",
     "text": [
      "Predicted:  [4]\n"
     ]
    },
    {
     "data": {
      "image/png": "[encoded data removed]",
      "text/plain": [
       "<Figure size 432x288 with 1 Axes>"
      ]
     },
     "metadata": {
      "needs_background": "light"
     },
     "output_type": "display_data"
    }
   ],
   "source": [
    "# Create a varible that can we can change easily to select an image\n",
    "imageNum = 325\n",
    "\n",
    "# Make a prediction using Tensorflow and our classifier we created above from our testData\n",
    "prediction = linearClassifier.predict(np.array([testData[imageNum]], dtype=float), as_iterable=False)\n",
    "\n",
    "# Print our prediction and display the actual image we are trying to predict\n",
    "print(\"Predicted: \", prediction)\n",
    "displayImage(imageNum)"
   ]
  },
  {
   "cell_type": "code",
   "execution_count": null,
   "metadata": {},
   "outputs": [
    {
     "name": "stdout",
     "output_type": "stream",
     "text": [
      "Predicted:  [6]\n"
     ]
    },
    {
     "data": {
      "image/png": "[encoded data removed]",
      "text/plain": [
       "<Figure size 432x288 with 1 Axes>"
      ]
     },
     "metadata": {
      "needs_background": "light"
     },
     "output_type": "display_data"
    }
   ],
   "source": [
    "# Create a varible that can we can change easily to select an image\n",
    "imageNum = 2000\n",
    "\n",
    "# Make a prediction using Tensorflow and our classifier we created above from our testData\n",
    "prediction = linearClassifier.predict(np.array([testData[imageNum]], dtype=float), as_iterable=False)\n",
    "\n",
    "# Print our prediction and display the actual image we are trying to predict\n",
    "print(\"Predicted: \", prediction)\n",
    "displayImage(imageNum)"
   ]
  },
  {
   "cell_type": "code",
   "execution_count": null,
   "metadata": {},
   "outputs": [
    {
     "name": "stdout",
     "output_type": "stream",
     "text": [
      "Predicted:  [6]\n"
     ]
    },
    {
     "data": {
      "image/png": "[encoded data removed]",
      "text/plain": [
       "<Figure size 432x288 with 1 Axes>"
      ]
     },
     "metadata": {
      "needs_background": "light"
     },
     "output_type": "display_data"
    }
   ],
   "source": [
    "# Create a varible that can we can change easily to select an image\n",
    "imageNum = 5421\n",
    "\n",
    "# Make a prediction using Tensorflow and our classifier we created above from our testData\n",
    "prediction = linearClassifier.predict(np.array([testData[imageNum]], dtype=float), as_iterable=False)\n",
    "\n",
    "# Print our prediction and display the actual image we are trying to predict\n",
    "print(\"Predicted: \", prediction)\n",
    "displayImage(imageNum)"
   ]
  },
  {
   "cell_type": "markdown",
   "metadata": {},
   "source": [
    "\n",
    "Sucess!\n",
    "\n",
    "From the 5 sample images, we can see that our linear classififer is working correctly. Now, you may be interested to understand how this works and why it's working. To best understand this, we must look at how our linear classifier is working.\n"
   ]
  },
  {
   "attachments": {},
   "cell_type": "markdown",
   "metadata": {},
   "source": [
    "<h1><center> MNIST - Deep Neural Network Classifier</center></h1>\n",
    "\n",
    "*** NOTE - DUE TO THE NATURE OF NEURAL NETWORKS, THE FOLLOWING CODE BELOW MAY APPEAR TO BE HANGING/CRASHING BUT IT IS NOT, CHECK THE ICON OF THE JUPTYER NOTEBOOK TAB YOU HAVE OPEN, IF IT APPEARS AS AN HOURGLASS THE OPERATION IS STILL BEING PERFORMED. PLEASE WAIT A COUPLE OF MINUTES FOR THE OPERATION TO COMPLETE ****\n",
    "\n"
   ]
  },
  {
   "attachments": {
    "Running.PNG": {
     "image/png": "[encoded data removed]"
    }
   },
   "cell_type": "markdown",
   "metadata": {},
   "source": [
    "Running = ![Running.PNG](attachment:Running.PNG) \n"
   ]
  },
  {
   "attachments": {
    "Complete.PNG": {
     "image/png": "[encoded data removed]"
    }
   },
   "cell_type": "markdown",
   "metadata": {},
   "source": [
    "Completed = ![Complete.PNG](attachment:Complete.PNG)\n"
   ]
  },
  {
   "cell_type": "markdown",
   "metadata": {},
   "source": [
    "<h1>1. Setup data</h1>"
   ]
  },
  {
   "cell_type": "code",
   "execution_count": null,
   "metadata": {
    "scrolled": true
   },
   "outputs": [
    {
     "name": "stdout",
     "output_type": "stream",
     "text": [
      "Extracting MNIST_data\\train-images-idx3-ubyte.gz\n",
      "Extracting MNIST_data\\train-labels-idx1-ubyte.gz\n",
      "Extracting MNIST_data\\t10k-images-idx3-ubyte.gz\n",
      "Extracting MNIST_data\\t10k-labels-idx1-ubyte.gz\n"
     ]
    }
   ],
   "source": [
    "# Import numpy\n",
    "import numpy as np\n",
    "\n",
    "# Import tensorflow as tf\n",
    "import tensorflow as tf\n",
    "\n",
    "# Import matplotlib as plt\n",
    "import matplotlib.pyplot as plt\n",
    "\n",
    "# Import the mnist dataSet from TensorFlow\n",
    "from tensorflow.examples.tutorials.mnist import input_data\n",
    "\n",
    "# Run this line to prevent unecessary errors showing when using Tensorflow\n",
    "tf.logging.set_verbosity(tf.logging.ERROR)\n",
    "\n",
    "# Load the mnist dataset from TensorFlow\n",
    "mnist = input_data.read_data_sets('MNIST_data')\n",
    "\n",
    "# Create a function to easily get our images and labels from the MNIST dataset\n",
    "def input(dataset):\n",
    "    return dataset.images, dataset.labels.astype(np.int32)"
   ]
  },
  {
   "cell_type": "markdown",
   "metadata": {},
   "source": [
    "<h1>2. Create Classifier</h1>"
   ]
  },
  {
   "cell_type": "markdown",
   "metadata": {},
   "source": [
    "For this example, we are going to use a <b>linear classififer</b>. Now, you may be asking yourself. What is a linear classifier and why are we using it in this example? I think this is important to understand so I am going to include some information at the end of this notebook explaining how a linear classifier works and why we chose it."
   ]
  },
  {
   "cell_type": "code",
   "execution_count": null,
   "metadata": {
    "scrolled": true
   },
   "outputs": [],
   "source": [
    "# Create a variable called feature_columns\n",
    "# https://www.tensorflow.org/guide/feature_columns\n",
    "feature_columns = [tf.feature_column.numeric_column(\"x\", shape=[28, 28])]\n",
    "\n",
    "# Create our classifier using TensorFlow's LinearClassifier function\n",
    "# We give this classifier 10 classes as the there are 10 outputs for our dataset (0..9)\n",
    "# https://www.tensorflow.org/api_docs/python/tf/contrib/learn/LinearClassifier\n",
    "dnnClassifier = tf.estimator.DNNClassifier(\n",
    "                     feature_columns=feature_columns,\n",
    "                     hidden_units=[256, 32],\n",
    "                     optimizer=tf.train.AdamOptimizer(1e-4),\n",
    "                     n_classes=10,\n",
    "                     dropout=0.1,\n",
    "                     model_dir=\"./tmp/mnist_model\"\n",
    "                    )"
   ]
  },
  {
   "cell_type": "markdown",
   "metadata": {},
   "source": [
    "<h1>3. Create training and test set</h1>"
   ]
  },
  {
   "cell_type": "markdown",
   "metadata": {},
   "source": [
    "* <b>Training Set - 55,000 images<b>\n",
    "* <b>Test Set - 10,000 images<b>"
   ]
  },
  {
   "cell_type": "code",
   "execution_count": null,
   "metadata": {},
   "outputs": [],
   "source": [
    "# Combine the training data and labels into one variable\n",
    "trainingData = tf.estimator.inputs.numpy_input_fn(\n",
    "    x={\"x\": input(mnist.train)[0]},\n",
    "    y=input(mnist.train)[1],\n",
    "    num_epochs=None,\n",
    "    batch_size=100,\n",
    "    shuffle=True\n",
    ")\n",
    "\n",
    "\n",
    "# Combine the test images and test labels into one variable\n",
    "testingData = tf.estimator.inputs.numpy_input_fn(\n",
    "    x={\"x\": input(mnist.test)[0]},\n",
    "    y=input(mnist.test)[1],\n",
    "    num_epochs=1,\n",
    "    shuffle=False\n",
    ")"
   ]
  },
  {
   "cell_type": "markdown",
   "metadata": {},
   "source": [
    "Now we have variables for our trainingData and our testData, let's train the model and see how accurately our model is able to predict the images in the dataset."
   ]
  },
  {
   "cell_type": "markdown",
   "metadata": {},
   "source": [
    "<h1>4. Train model and show accuracy</h1>"
   ]
  },
  {
   "cell_type": "code",
   "execution_count": null,
   "metadata": {
    "scrolled": true
   },
   "outputs": [],
   "source": [
    "# Tell TensorFlow to fit the classifier with the training set and corresponding labels in batches of 100\n",
    "# https://www.tensorflow.org/api_docs/python/tf/keras/models/Model#fit\n",
    "dnnClassifier.train(input_fn=trainingData, steps=100000)\n",
    "\n",
    "# Print the accuracy of our fit method as a percentage\n",
    "# https://www.tensorflow.org/api_docs/python/tf/contrib/learn/evaluate\n",
    "percentageAccuracy = (dnnClassifier.evaluate(input_fn=testingData)[\"accuracy\"])\n",
    "print(\"\\nTest Accuracy: {0:f}%\\n\".format(percentageAccuracy*100))"
   ]
  },
  {
   "cell_type": "markdown",
   "metadata": {},
   "source": [
    "We can see the accuracy lies at around 90 percent. This is good and a better score could be achieved by using deep learning. For now, we are happy with this score so let's see if it actually is accurate by using TensorFlows predict function a few images that we know the correct output."
   ]
  },
  {
   "cell_type": "markdown",
   "metadata": {},
   "source": [
    "<h2>Sucess!</h2> "
   ]
  },
  {
   "cell_type": "markdown",
   "metadata": {},
   "source": [
    "Using a DNN Classifier instead of a Linear Classifier we were able to increase our accuracy score to 98 percent, which I am very happy with. Iny my next notebook, I will be discussing why I chose these classifiers and how they work."
   ]
  },
  {
   "cell_type": "markdown",
   "metadata": {},
   "source": [
    "<h3> References</h3>\n",
    "\n",
    "* [Classifying Handwritten Digits with TF.Learn - Machine Learning Recipes](https://www.youtube.com/watch?v=Gj0iyo265bc)\n",
    "\n",
    "* [MNIST Website](http://yann.lecun.com/exdb/mnist/)\n",
    "\n",
    "* [Handling the MNIST Datset](https://github.com/datapythonista/mnist)\n",
    "\n",
    "* [Writing images using OpenCV](https://docs.opencv.org/2.4/doc/tutorials/introduction/load_save_image/load_save_image.html)"
   ]
  }
 ],
 "metadata": {
  "kernelspec": {
   "display_name": "Python 3",
   "language": "python",
   "name": "python3"
  },
  "language_info": {
   "codemirror_mode": {
    "name": "ipython",
    "version": 3
   },
   "file_extension": ".py",
   "mimetype": "text/x-python",
   "name": "python",
   "nbconvert_exporter": "python",
   "pygments_lexer": "ipython3",
   "version": "3.6.7"
  }
 },
 "nbformat": 4,
 "nbformat_minor": 2
}
