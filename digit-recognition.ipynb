{
 "cells": [
  {
   "cell_type": "markdown",
   "metadata": {},
   "source": [
    "<h1><center> About the MNIST dataset</center></h1>"
   ]
  },
  {
   "cell_type": "markdown",
   "metadata": {},
   "source": [
    "In our previous notebook, we looked at how to read in the MNIST Dataset from the zip files provided on the MNIST website. Now that we have the image files, we can start to create our neural network that will take in an image from the MNIST dataset and tell us what the number in the image is without using the labels set. "
   ]
  },
  {
   "cell_type": "markdown",
   "metadata": {},
   "source": [
    "We can do this in steps, similar to our Iris datset. The first step will be to create the neural network. In this example, we already know how to read and save the images contained in the dataset, so let's use TensorFlow's built in MNIST dataset so we don't have to repeat this operation in this notebook also."
   ]
  },
  {
   "cell_type": "markdown",
   "metadata": {},
   "source": [
    "<h1>1. Setup data</h1>"
   ]
  },
  {
   "cell_type": "code",
   "execution_count": 1,
   "metadata": {},
   "outputs": [
    {
     "name": "stdout",
     "output_type": "stream",
     "text": [
      "Extracting MNIST-data\\train-images-idx3-ubyte.gz\n",
      "Extracting MNIST-data\\train-labels-idx1-ubyte.gz\n",
      "Extracting MNIST-data\\t10k-images-idx3-ubyte.gz\n",
      "Extracting MNIST-data\\t10k-labels-idx1-ubyte.gz\n"
     ]
    }
   ],
   "source": [
    "# Import numpy\n",
    "import numpy as np\n",
    "\n",
    "# Import tensorflow as tf\n",
    "import tensorflow as tf\n",
    "\n",
    "# Import matplotlib as plt\n",
    "import matplotlib.pyplot as plt\n",
    "\n",
    "# Run this line to prevent unecessary errors showing when using Tensorflow\n",
    "tf.logging.set_verbosity(tf.logging.ERROR)\n",
    "\n",
    "learn = tf.contrib.learn\n",
    "\n",
    "# Load the mnist dataset from TensorFlow\n",
    "mnist = learn.datasets.load_dataset('mnist')"
   ]
  },
  {
   "cell_type": "markdown",
   "metadata": {},
   "source": [
    "<h1>2. Create training and test set</h1>"
   ]
  },
  {
   "cell_type": "markdown",
   "metadata": {},
   "source": [
    "* <b>Training Set - 55,000 images<b>\n",
    "* <b>Test Set - 10,000 images<b>"
   ]
  },
  {
   "cell_type": "code",
   "execution_count": 2,
   "metadata": {},
   "outputs": [],
   "source": [
    "# Define trainData as the training set of images from MNIST\n",
    "trainData = mnist.train.images\n",
    "\n",
    "# Define trainLabels as the training set of labels from MNIST\n",
    "trainLabels = np.asarray(mnist.train.labels, dtype=np.int32)\n",
    "\n",
    "# Define testData as the testing set of images from MNIST\n",
    "testData = mnist.test.images\n",
    "\n",
    "# Define testData as the testing set of images from MNIST\n",
    "testLabels = np.asarray(mnist.test.labels, dtype=np.int32)"
   ]
  },
  {
   "cell_type": "markdown",
   "metadata": {},
   "source": [
    "Let's show an image from the data we just loaded in to make sure everything is working properly. Let's create a function that will do this incase we need to display an image again later on."
   ]
  },
  {
   "cell_type": "code",
   "execution_count": 3,
   "metadata": {},
   "outputs": [],
   "source": [
    "def displayImage(i):\n",
    "    img = testData[i]\n",
    "    plt.title('Image: %d Label: %d' % (i, testLabels[i]))\n",
    "    plt.imshow(img.reshape(28,28), cmap=plt.cm.gray_r)\n",
    "\n"
   ]
  },
  {
   "cell_type": "code",
   "execution_count": 4,
   "metadata": {
    "scrolled": true
   },
   "outputs": [
    {
     "data": {
      "image/png": "[encoded data removed]",
      "text/plain": [
       "<Figure size 432x288 with 1 Axes>"
      ]
     },
     "metadata": {
      "needs_background": "light"
     },
     "output_type": "display_data"
    }
   ],
   "source": [
    "displayImage(0)"
   ]
  },
  {
   "cell_type": "markdown",
   "metadata": {},
   "source": [
    "Okay, so now we have the dataset set-up correctly. We know this as in our previous notebook, the first image from the MNIST dataset is a 7 and passing in a value of 0 (the first image in the dataset) to our displayImage() function, we can see it shows a seven correctly. Our next step is to create a classifier for our dataset."
   ]
  },
  {
   "cell_type": "markdown",
   "metadata": {},
   "source": [
    "<h1>3. Create Classifier</h1>"
   ]
  },
  {
   "cell_type": "markdown",
   "metadata": {},
   "source": [
    "For this example, we are going to use a <b>linear classififer</b>. Now, you may be asking yourself. What is a linear classifier and why are we using it in this example? I think this is important to understand so I am going to include some information at the end of this notebook explaining how a linear classifier works."
   ]
  },
  {
   "cell_type": "code",
   "execution_count": 5,
   "metadata": {
    "scrolled": true
   },
   "outputs": [
    {
     "data": {
      "text/plain": [
       "LinearClassifier(params={'head': <tensorflow.contrib.learn.python.learn.estimators.head._MultiClassHead object at 0x000002488A200EF0>, 'feature_columns': [_RealValuedColumn(column_name='', dimension=784, default_value=None, dtype=tf.float32, normalizer=None)], 'optimizer': None, 'gradient_clip_norm': None, 'joint_weights': False})"
      ]
     },
     "execution_count": 5,
     "metadata": {},
     "output_type": "execute_result"
    }
   ],
   "source": [
    "# Create a variable called feature_columns\n",
    "# https://www.tensorflow.org/guide/feature_columns\n",
    "feature_columns = learn.infer_real_valued_columns_from_input(trainData)\n",
    "\n",
    "# Create our classifier using TensorFlow's LinearClassifier function\n",
    "# We give this classifier 10 classes as the there are 10 outputs for our dataset (0..9)\n",
    "linearClassifier = learn.LinearClassifier(feature_columns=feature_columns, n_classes=10)\n",
    "\n",
    "# Tell TensorFlow to fit the classifier with the training set and corresponding labels in batches of 100\n",
    "# https://www.tensorflow.org/api_docs/python/tf/keras/models/Model#fit\n",
    "linearClassifier.fit(trainData, trainLabels, batch_size=100, steps=1000)"
   ]
  },
  {
   "cell_type": "markdown",
   "metadata": {},
   "source": [
    "<h1>4. Evaluate Accuracy</h1>"
   ]
  },
  {
   "cell_type": "code",
   "execution_count": 6,
   "metadata": {},
   "outputs": [
    {
     "name": "stdout",
     "output_type": "stream",
     "text": [
      "0.9216\n"
     ]
    }
   ],
   "source": [
    "# Evaluate the accuray of our classifier after using the fit function above\n",
    "# https://www.tensorflow.org/api_docs/python/tf/contrib/learn/evaluate\n",
    "linearClassifier.evaluate(testData, testLabels)\n",
    "\n",
    "# Print the accuracy of our fit method as a percentage\n",
    "percentageAccuracy = (linearClassifier.evaluate(testData, testLabels)[\"accuracy\"])\n",
    "print(percentageAccuracy)"
   ]
  },
  {
   "cell_type": "markdown",
   "metadata": {},
   "source": [
    "We can see the accuracy lies at around 90 percent. This is good and a better score could be achieved by using deep learning. For now, we are happy with this score so let's see if it actually is accurate by using TensorFlows predict function a few images that we know the correct output."
   ]
  },
  {
   "cell_type": "markdown",
   "metadata": {},
   "source": [
    "<h1>5. Test with sample images</h1>"
   ]
  },
  {
   "cell_type": "code",
   "execution_count": 7,
   "metadata": {
    "scrolled": true
   },
   "outputs": [
    {
     "name": "stdout",
     "output_type": "stream",
     "text": [
      "Predicted:  [7]\n"
     ]
    },
    {
     "data": {
      "image/png": "[encoded data removed]",
      "text/plain": [
       "<Figure size 432x288 with 1 Axes>"
      ]
     },
     "metadata": {
      "needs_background": "light"
     },
     "output_type": "display_data"
    }
   ],
   "source": [
    "# Create a varible that can we can change easily to select an image\n",
    "imageNum = 0\n",
    "\n",
    "# Make a prediction using Tensorflow and our classifier we created above from our testData\n",
    "prediction = linearClassifier.predict(np.array([testData[imageNum]], dtype=float), as_iterable=False)\n",
    "\n",
    "# Print our prediction and display the actual image we are trying to predict\n",
    "print(\"Predicted: \", prediction)\n",
    "displayImage(imageNum)"
   ]
  },
  {
   "cell_type": "code",
   "execution_count": 8,
   "metadata": {},
   "outputs": [
    {
     "name": "stdout",
     "output_type": "stream",
     "text": [
      "Predicted:  [2]\n"
     ]
    },
    {
     "data": {
      "image/png": "[encoded data removed]",
      "text/plain": [
       "<Figure size 432x288 with 1 Axes>"
      ]
     },
     "metadata": {
      "needs_background": "light"
     },
     "output_type": "display_data"
    }
   ],
   "source": [
    "# Create a varible that can we can change easily to select an image\n",
    "imageNum = 1\n",
    "\n",
    "# Make a prediction using Tensorflow and our classifier we created above from our testData\n",
    "prediction = linearClassifier.predict(np.array([testData[imageNum]], dtype=float), as_iterable=False)\n",
    "\n",
    "# Print our prediction and display the actual image we are trying to predict\n",
    "print(\"Predicted: \", prediction)\n",
    "displayImage(imageNum)"
   ]
  },
  {
   "cell_type": "code",
   "execution_count": 9,
   "metadata": {},
   "outputs": [
    {
     "name": "stdout",
     "output_type": "stream",
     "text": [
      "Predicted:  [5]\n"
     ]
    },
    {
     "data": {
      "image/png": "[encoded data removed]",
      "text/plain": [
       "<Figure size 432x288 with 1 Axes>"
      ]
     },
     "metadata": {
      "needs_background": "light"
     },
     "output_type": "display_data"
    }
   ],
   "source": [
    "# Create a varible that can we can change easily to select an image\n",
    "imageNum = 569\n",
    "\n",
    "# Make a prediction using Tensorflow and our classifier we created above from our testData\n",
    "prediction = linearClassifier.predict(np.array([testData[imageNum]], dtype=float), as_iterable=False)\n",
    "\n",
    "# Print our prediction and display the actual image we are trying to predict\n",
    "print(\"Predicted: \", prediction)\n",
    "displayImage(imageNum)"
   ]
  },
  {
   "cell_type": "code",
   "execution_count": 10,
   "metadata": {},
   "outputs": [
    {
     "name": "stdout",
     "output_type": "stream",
     "text": [
      "Predicted:  [4]\n"
     ]
    },
    {
     "data": {
      "image/png": "[encoded data removed]",
      "text/plain": [
       "<Figure size 432x288 with 1 Axes>"
      ]
     },
     "metadata": {
      "needs_background": "light"
     },
     "output_type": "display_data"
    }
   ],
   "source": [
    "# Create a varible that can we can change easily to select an image\n",
    "imageNum = 325\n",
    "\n",
    "# Make a prediction using Tensorflow and our classifier we created above from our testData\n",
    "prediction = linearClassifier.predict(np.array([testData[imageNum]], dtype=float), as_iterable=False)\n",
    "\n",
    "# Print our prediction and display the actual image we are trying to predict\n",
    "print(\"Predicted: \", prediction)\n",
    "displayImage(imageNum)"
   ]
  },
  {
   "cell_type": "code",
   "execution_count": 11,
   "metadata": {},
   "outputs": [
    {
     "name": "stdout",
     "output_type": "stream",
     "text": [
      "Predicted:  [6]\n"
     ]
    },
    {
     "data": {
      "image/png": "[encoded data removed]",
      "text/plain": [
       "<Figure size 432x288 with 1 Axes>"
      ]
     },
     "metadata": {
      "needs_background": "light"
     },
     "output_type": "display_data"
    }
   ],
   "source": [
    "# Create a varible that can we can change easily to select an image\n",
    "imageNum = 2000\n",
    "\n",
    "# Make a prediction using Tensorflow and our classifier we created above from our testData\n",
    "prediction = linearClassifier.predict(np.array([testData[imageNum]], dtype=float), as_iterable=False)\n",
    "\n",
    "# Print our prediction and display the actual image we are trying to predict\n",
    "print(\"Predicted: \", prediction)\n",
    "displayImage(imageNum)"
   ]
  },
  {
   "cell_type": "code",
   "execution_count": 12,
   "metadata": {},
   "outputs": [
    {
     "name": "stdout",
     "output_type": "stream",
     "text": [
      "Predicted:  [6]\n"
     ]
    },
    {
     "data": {
      "image/png": "[encoded data removed]",
      "text/plain": [
       "<Figure size 432x288 with 1 Axes>"
      ]
     },
     "metadata": {
      "needs_background": "light"
     },
     "output_type": "display_data"
    }
   ],
   "source": [
    "# Create a varible that can we can change easily to select an image\n",
    "imageNum = 5421\n",
    "\n",
    "# Make a prediction using Tensorflow and our classifier we created above from our testData\n",
    "prediction = linearClassifier.predict(np.array([testData[imageNum]], dtype=float), as_iterable=False)\n",
    "\n",
    "# Print our prediction and display the actual image we are trying to predict\n",
    "print(\"Predicted: \", prediction)\n",
    "displayImage(imageNum)"
   ]
  },
  {
   "cell_type": "markdown",
   "metadata": {},
   "source": [
    "<h2>Sucess!</h2> "
   ]
  },
  {
   "cell_type": "markdown",
   "metadata": {},
   "source": [
    "From the 5 sample images, we can see that our linear classififer is working correctly. Now, you may be interested to understand how this works and why it's working. To best understand this, we must look at how our linear classifier is working."
   ]
  },
  {
   "cell_type": "markdown",
   "metadata": {},
   "source": [
    "<h2> What is a linear classifier and how does it work?</h2>"
   ]
  },
  {
   "attachments": {
    "Linear.png": {
     "image/png": "[encoded data removed]"
    }
   },
   "cell_type": "markdown",
   "metadata": {},
   "source": [
    "![Linear.png](attachment:Linear.png)"
   ]
  },
  {
   "cell_type": "markdown",
   "metadata": {},
   "source": [
    "<h3> References</h3>\n",
    "\n",
    "* [Classifying Handwritten Digits with TF.Learn - Machine Learning Recipes](https://www.youtube.com/watch?v=Gj0iyo265bc)\n",
    "\n",
    "* [MNIST Website](http://yann.lecun.com/exdb/mnist/)\n",
    "\n",
    "* [Handling the MNIST Datset](https://github.com/datapythonista/mnist)\n",
    "\n",
    "* [Writing images using OpenCV](https://docs.opencv.org/2.4/doc/tutorials/introduction/load_save_image/load_save_image.html)"
   ]
  },
  {
   "cell_type": "code",
   "execution_count": null,
   "metadata": {},
   "outputs": [],
   "source": []
  },
  {
   "cell_type": "code",
   "execution_count": null,
   "metadata": {},
   "outputs": [],
   "source": []
  }
 ],
 "metadata": {
  "kernelspec": {
   "display_name": "Python 3",
   "language": "python",
   "name": "python3"
  },
  "language_info": {
   "codemirror_mode": {
    "name": "ipython",
    "version": 3
   },
   "file_extension": ".py",
   "mimetype": "text/x-python",
   "name": "python",
   "nbconvert_exporter": "python",
   "pygments_lexer": "ipython3",
   "version": "3.6.7"
  }
 },
 "nbformat": 4,
 "nbformat_minor": 2
}
