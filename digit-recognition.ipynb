{
 "cells": [
  {
   "cell_type": "markdown",
   "metadata": {},
   "source": [
    "<h1><center> About the MNIST dataset</center></h1>"
   ]
  },
  {
   "cell_type": "markdown",
   "metadata": {},
   "source": [
    "In our previous notebook, we looked at how to read in the MNIST Dataset from the zip files provided on the MNIST website. Now that we have the image files, we can start to create our neural network that will take in an image from the MNIST dataset and tell us what the number in the image is without using the labels set. "
   ]
  },
  {
   "cell_type": "markdown",
   "metadata": {},
   "source": [
    "We can do this in steps, similar to our Iris datset. The first step will be to create the neural network. In this example, we already know how to read and save the images contained in the dataset, so let's use TensorFlow's built in MNIST dataset so we don't have to repeat this operation in this notebook also."
   ]
  },
  {
   "cell_type": "markdown",
   "metadata": {},
   "source": [
    "<h1>1. Setup data</h1>"
   ]
  },
  {
   "cell_type": "code",
   "execution_count": 12,
   "metadata": {},
   "outputs": [
    {
     "name": "stdout",
     "output_type": "stream",
     "text": [
      "Extracting MNIST-data\\train-images-idx3-ubyte.gz\n",
      "Extracting MNIST-data\\train-labels-idx1-ubyte.gz\n",
      "Extracting MNIST-data\\t10k-images-idx3-ubyte.gz\n",
      "Extracting MNIST-data\\t10k-labels-idx1-ubyte.gz\n"
     ]
    }
   ],
   "source": [
    "# Import numpy\n",
    "import numpy as np\n",
    "\n",
    "# Import tensorflow as tf\n",
    "import tensorflow as tf\n",
    "\n",
    "# Run this line to prevent unecessary errors showing when using Tensorflow\n",
    "tf.logging.set_verbosity(tf.logging.ERROR)\n",
    "\n",
    "learn = tf.contrib.learn\n",
    "\n",
    "# Load the mnist dataset from TensorFlow\n",
    "mnist = learn.datasets.load_dataset('mnist')"
   ]
  },
  {
   "cell_type": "markdown",
   "metadata": {},
   "source": [
    "<h1>2. Create training and test set</h1>"
   ]
  },
  {
   "cell_type": "code",
   "execution_count": 13,
   "metadata": {},
   "outputs": [],
   "source": [
    "# Define trainData as the training set of images from MNIST\n",
    "trainData = mnist.train.images\n",
    "\n",
    "# Define trainLabels as the training set of labels from MNIST\n",
    "trainLabels = np.asarray(mnist.train.labels, dtype=np.int32)\n",
    "\n",
    "# Define testData as the testing set of images from MNIST\n",
    "testData = mnist.test.images\n",
    "\n",
    "# Define testData as the testing set of images from MNIST\n",
    "testLabels = np.asarray(mnist.test.labels, dtype=np.int32)"
   ]
  },
  {
   "cell_type": "markdown",
   "metadata": {},
   "source": [
    "<h3> References</h3>\n",
    "\n",
    "* [Classifying Handwritten Digits with TF.Learn - Machine Learning Recipes](https://www.youtube.com/watch?v=Gj0iyo265bc)\n",
    "\n",
    "* [MNIST Website](http://yann.lecun.com/exdb/mnist/)\n",
    "\n",
    "* [Handling the MNIST Datset](https://github.com/datapythonista/mnist)\n",
    "\n",
    "* [Writing images using OpenCV](https://docs.opencv.org/2.4/doc/tutorials/introduction/load_save_image/load_save_image.html)"
   ]
  }
 ],
 "metadata": {
  "kernelspec": {
   "display_name": "Python 3",
   "language": "python",
   "name": "python3"
  },
  "language_info": {
   "codemirror_mode": {
    "name": "ipython",
    "version": 3
   },
   "file_extension": ".py",
   "mimetype": "text/x-python",
   "name": "python",
   "nbconvert_exporter": "python",
   "pygments_lexer": "ipython3",
   "version": "3.6.7"
  }
 },
 "nbformat": 4,
 "nbformat_minor": 2
}
