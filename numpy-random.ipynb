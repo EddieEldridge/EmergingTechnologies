{
 "cells": [
  {
   "cell_type": "markdown",
   "metadata": {},
   "source": [
    "<h1><center> About the NumPy 'random' package</center></h1>\n",
    "<img src=\"https://upload.wikimedia.org/wikipedia/commons/thumb/1/1a/NumPy_logo.svg/1200px-NumPy_logo.svg.png\",width=300,height=60>"
   ]
  },
  {
   "cell_type": "markdown",
   "metadata": {},
   "source": [
    "NumPy is the fundamental libray for scientific computing with Python. The random package found in the NumPy library is mainly used for generating/randomzing data. By looking at the package documentation [here](https://docs.scipy.org/doc/numpy-1.15.1/reference/routines.random.html) we can see the package is broken down into 4 sections.\n",
    "\n",
    "* Simple random data \n",
    "* Permutations \n",
    "* Distributions\n",
    "* Random generator\n",
    " \n",
    "I will break this notebook into 4 sections based on these headings, showing and explaining examples of functions in each section.\n",
    "\n"
   ]
  },
  {
   "cell_type": "markdown",
   "metadata": {},
   "source": [
    "<h1>Simple random data</h1>\n"
   ]
  },
  {
   "cell_type": "markdown",
   "metadata": {},
   "source": [
    "<h3>Example #1 - numpy.random.rand</h3>\n",
    "\n",
    "<i> Random values in a given shape.</i>\n",
    "\n"
   ]
  },
  {
   "cell_type": "code",
   "execution_count": 60,
   "metadata": {},
   "outputs": [
    {
     "data": {
      "text/plain": [
       "array([[[0.84029885, 0.19185574, 0.01739428],\n",
       "        [0.9924045 , 0.50328362, 0.87045766],\n",
       "        [0.80653726, 0.87269791, 0.11642944],\n",
       "        [0.60684598, 0.01621771, 0.74528227],\n",
       "        [0.81069645, 0.41001964, 0.43235955],\n",
       "        [0.56439466, 0.57476349, 0.4804882 ],\n",
       "        [0.86106762, 0.57948951, 0.4623263 ],\n",
       "        [0.49632418, 0.76005124, 0.24354422],\n",
       "        [0.64576002, 0.30315041, 0.79405062],\n",
       "        [0.11771446, 0.55785311, 0.63911559]]])"
      ]
     },
     "execution_count": 60,
     "metadata": {},
     "output_type": "execute_result"
    }
   ],
   "source": [
    "import numpy as np\n",
    "np.random.rand(1,10,3)"
   ]
  },
  {
   "cell_type": "markdown",
   "metadata": {},
   "source": [
    "In this very basic example, we import the NumPy library and the random package so we can use them in our code. We then use the most basic function in the random package, 'rand'. This takes three arguments. The first two numbers are the range from which we want to generate random numbers. In our case, only numbers between 1 and 10 will be generated. The third argument dictates the dimensions of our array. In our case, i've chosen 3 to properly illustrate this point. \n",
    " "
   ]
  },
  {
   "cell_type": "markdown",
   "metadata": {},
   "source": [
    "It's important to remember different functions use different distributions to generate random numbers. In the above example, a uniform distribution is used."
   ]
  },
  {
   "cell_type": "markdown",
   "metadata": {},
   "source": [
    "<h3>Example #2 - numpy.random.randn</h3>\n",
    "\n",
    "<i> Return a sample (or samples) from the “standard normal” distribution. </i>"
   ]
  },
  {
   "cell_type": "markdown",
   "metadata": {},
   "source": [
    "In this example, we perform the same operation but instead use a <i>standard normal</i> or <i>Gaussian</i> distribution to generate the values. We will talk about distributions in more detail later on."
   ]
  },
  {
   "cell_type": "code",
   "execution_count": 61,
   "metadata": {
    "scrolled": true
   },
   "outputs": [
    {
     "data": {
      "text/plain": [
       "array([[[-0.1990792 ,  0.65792357,  0.41282409],\n",
       "        [-0.48630061, -0.51512903, -0.50881266],\n",
       "        [-0.93321115, -0.60428332, -2.23403082],\n",
       "        [-1.3266097 , -0.55926453,  0.02171916],\n",
       "        [-0.47117156, -0.18611101, -1.6063825 ],\n",
       "        [-0.87311173,  0.46594358,  0.62115523],\n",
       "        [ 1.45783117, -0.95853307,  0.26037828],\n",
       "        [-0.93613545,  0.77632281, -0.31548778],\n",
       "        [ 0.68632546,  0.09534552,  1.33573608],\n",
       "        [-1.37113474,  0.21223477,  0.28365342]]])"
      ]
     },
     "execution_count": 61,
     "metadata": {},
     "output_type": "execute_result"
    }
   ],
   "source": [
    "import numpy as np\n",
    "np.random.randn(1,10,3)"
   ]
  },
  {
   "cell_type": "markdown",
   "metadata": {},
   "source": [
    "<h3>Example #3 - numpy.random.bytes</h3>\n",
    "\n",
    "<i> Return random bytes. </i>\n"
   ]
  },
  {
   "cell_type": "markdown",
   "metadata": {},
   "source": [
    "In this example, we simply call the np.random.bytes function and pass it a parameter which defines the number of random bytes to generate. In our example, we use 10 and a string with a length of 10 bytes is returned.\n"
   ]
  },
  {
   "cell_type": "code",
   "execution_count": 62,
   "metadata": {},
   "outputs": [
    {
     "data": {
      "text/plain": [
       "b'\\xbed\\xc8\\x14\\xf7\\xbc\\x00\\xae\\x97\\xb7'"
      ]
     },
     "execution_count": 62,
     "metadata": {},
     "output_type": "execute_result"
    }
   ],
   "source": [
    "import numpy as np\n",
    "\n",
    "np.random.bytes(10)"
   ]
  },
  {
   "cell_type": "markdown",
   "metadata": {},
   "source": [
    "<h1>Permutations</h1>"
   ]
  },
  {
   "cell_type": "markdown",
   "metadata": {},
   "source": [
    "In mathematics, the notion of permutation relates to the act of arranging all the members of a set into some sequence or order, or if the set is already ordered, rearranging (reordering) its elements, a process called permuting. There are only 2 functions in the permutations section. They are <i>shuffle</i> and <i>permutation</i>."
   ]
  },
  {
   "cell_type": "markdown",
   "metadata": {},
   "source": [
    "<h3>Example #1 - numpy.random.shuffle</h3>\n",
    "\n",
    "<i> Modify a sequence in-place by shuffling its contents.</i>\n"
   ]
  },
  {
   "cell_type": "code",
   "execution_count": 63,
   "metadata": {},
   "outputs": [
    {
     "name": "stdout",
     "output_type": "stream",
     "text": [
      "[ 1  2  3  4  5  6  7  8  9 10 11 12 13 14 15 16 17 18 19 20]\n"
     ]
    }
   ],
   "source": [
    "arrangedArray = np.arange(1,21,1)\n",
    "print(arrangedArray)"
   ]
  },
  {
   "cell_type": "markdown",
   "metadata": {},
   "source": [
    "First we create an array to shuffle. To properly demonstrate the shuffling, we will generate an array using <i>np.arrange</i>. This function is not included in the numpy random package. It returns an array of evenly spaced values. We can first declare the range with out first two parameters and the spacing with the 3rd parameter. Let's shuffle the array we just generated."
   ]
  },
  {
   "cell_type": "code",
   "execution_count": 64,
   "metadata": {},
   "outputs": [
    {
     "name": "stdout",
     "output_type": "stream",
     "text": [
      "[ 2  4  1 16 17  8 18  9 20 11 14  3  5  7 15 19 10  6 12 13]\n"
     ]
    }
   ],
   "source": [
    "import numpy as np\n",
    "\n",
    "# Create our arranged array like above\n",
    "arrangedArray = np.arange(1,21,1)\n",
    "\n",
    "# Shuffle the arranged array\n",
    "np.random.shuffle(arrangedArray)\n",
    "\n",
    "# Print the shuffled array\n",
    "print(arrangedArray)"
   ]
  },
  {
   "cell_type": "markdown",
   "metadata": {},
   "source": [
    "In the above example, we can see that the array is no longer arranged sequentially, but instead has been shuffled. It's important to remember this function only shuffles the array along the first axis of a multi-dimensional array. Let's see what I mean by this. "
   ]
  },
  {
   "cell_type": "code",
   "execution_count": 65,
   "metadata": {},
   "outputs": [
    {
     "name": "stdout",
     "output_type": "stream",
     "text": [
      "[[1 2 3]\n",
      " [7 8 9]\n",
      " [4 5 6]]\n"
     ]
    }
   ],
   "source": [
    "import numpy as np\n",
    "\n",
    "# Create our arranged array like above\n",
    "arrangedArray = np.arange(1,10,1).reshape((3, 3))\n",
    "\n",
    "# Shuffle the arranged array\n",
    "np.random.shuffle(arrangedArray)\n",
    "\n",
    "# Print the shuffled array\n",
    "print(arrangedArray)"
   ]
  },
  {
   "cell_type": "markdown",
   "metadata": {},
   "source": [
    "Using the <i>reshape</i> function, we can reshapre our 1-dimensional array into a 3-dimensional one. Now can we see what we talked about above. Only the axis of the array was shuffled, not the contents of the array."
   ]
  },
  {
   "cell_type": "markdown",
   "metadata": {},
   "source": [
    "<h3>Example #2 - numpy.random.permutation</h3>\n",
    "\n",
    "<i> Randomly permute a sequence, or return a permuted range.</i>\n",
    "\n"
   ]
  },
  {
   "cell_type": "code",
   "execution_count": 67,
   "metadata": {},
   "outputs": [
    {
     "data": {
      "text/plain": [
       "array([3, 2, 8, 7, 4, 9, 6, 1, 5, 0])"
      ]
     },
     "execution_count": 67,
     "metadata": {},
     "output_type": "execute_result"
    }
   ],
   "source": [
    "import numpy as np\n",
    "\n",
    "np.random.permutation(10)"
   ]
  },
  {
   "cell_type": "markdown",
   "metadata": {},
   "source": [
    "The function <i>np.random.permutation</i> works in a similar way to our above example such that it combines the operations of <i>np.arange</i> and <i>np.random.shuffle</i> into the same function. In the above example, we generate a 1-dimensional array of 10 numbers and permute them. There isn't much to say about this function except that it follows the same rules of only permuting the axis' of multi"
   ]
  }
 ],
 "metadata": {
  "kernelspec": {
   "display_name": "Python 3",
   "language": "python",
   "name": "python3"
  },
  "language_info": {
   "codemirror_mode": {
    "name": "ipython",
    "version": 3
   },
   "file_extension": ".py",
   "mimetype": "text/x-python",
   "name": "python",
   "nbconvert_exporter": "python",
   "pygments_lexer": "ipython3",
   "version": "3.6.5"
  }
 },
 "nbformat": 4,
 "nbformat_minor": 2
}
