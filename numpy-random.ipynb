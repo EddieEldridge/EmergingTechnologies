{
 "cells": [
  {
   "cell_type": "markdown",
   "metadata": {},
   "source": [
    "<h1><center> About the NumPy 'random' package</center></h1>\n",
    "<img src=\"https://upload.wikimedia.org/wikipedia/commons/thumb/1/1a/NumPy_logo.svg/1200px-NumPy_logo.svg.png\",width=300,height=60>"
   ]
  },
  {
   "cell_type": "markdown",
   "metadata": {},
   "source": [
    "NumPy is the fundamental libray for scientific computing with Python. The random package found in the NumPy library is mainly used for generating/randomzing data. By looking at the package documentation [here](https://docs.scipy.org/doc/numpy-1.15.1/reference/routines.random.html) we can see the package is broken down into 4 sections.\n",
    "\n",
    "* Simple random data \n",
    "* Permutations \n",
    "* Distributions\n",
    "* Random generator\n",
    " \n",
    "I will break this notebook into 4 sections based on these headings, showing and explaining examples of functions in each section.\n",
    "\n"
   ]
  },
  {
   "cell_type": "markdown",
   "metadata": {},
   "source": [
    "<h1>Simple random data</h1>\n"
   ]
  },
  {
   "cell_type": "markdown",
   "metadata": {},
   "source": [
    "<h3>Example #1 - numpy.random.rand</h3>\n",
    "\n",
    "<i> Random values in a given shape.</i>\n",
    "\n"
   ]
  },
  {
   "cell_type": "code",
   "execution_count": 68,
   "metadata": {},
   "outputs": [
    {
     "data": {
      "text/plain": [
       "array([[[0.89851137, 0.90191301, 0.06816427],\n",
       "        [0.44385712, 0.43449184, 0.1694334 ],\n",
       "        [0.98460272, 0.01718132, 0.72401711],\n",
       "        [0.26984557, 0.16528573, 0.92851335],\n",
       "        [0.79019848, 0.10058589, 0.82666659],\n",
       "        [0.41929896, 0.10697668, 0.66547805],\n",
       "        [0.65156229, 0.51061229, 0.2524707 ],\n",
       "        [0.24661363, 0.81620485, 0.74231416],\n",
       "        [0.80260179, 0.50485081, 0.75891766],\n",
       "        [0.24830848, 0.60798413, 0.49160829]]])"
      ]
     },
     "execution_count": 68,
     "metadata": {},
     "output_type": "execute_result"
    }
   ],
   "source": [
    "import numpy as np\n",
    "np.random.rand(1,10,3)"
   ]
  },
  {
   "cell_type": "markdown",
   "metadata": {},
   "source": [
    "In this very basic example, we import the NumPy library and the random package so we can use them in our code. We then use the most basic function in the random package, 'rand'. This takes three arguments. The first two numbers are the range from which we want to generate random numbers. In our case, only numbers between 1 and 10 will be generated. The third argument dictates the dimensions of our array. In our case, i've chosen 3 to properly illustrate this point. \n",
    " "
   ]
  },
  {
   "cell_type": "markdown",
   "metadata": {},
   "source": [
    "It's important to remember different functions use different distributions to generate random numbers. In the above example, a uniform distribution is used."
   ]
  },
  {
   "cell_type": "markdown",
   "metadata": {},
   "source": [
    "<h3>Example #2 - numpy.random.randn</h3>\n",
    "\n",
    "<i> Return a sample (or samples) from the “standard normal” distribution. </i>"
   ]
  },
  {
   "cell_type": "markdown",
   "metadata": {},
   "source": [
    "In this example, we perform the same operation but instead use a <i>standard normal</i> or <i>Gaussian</i> distribution to generate the values. We will talk about distributions in more detail later on."
   ]
  },
  {
   "cell_type": "code",
   "execution_count": 69,
   "metadata": {
    "scrolled": true
   },
   "outputs": [
    {
     "data": {
      "text/plain": [
       "array([[[-1.56977361, -1.11181517, -1.13626628],\n",
       "        [ 0.57376213, -0.94224227, -0.06036533],\n",
       "        [ 0.95412498,  0.16917797,  1.04330159],\n",
       "        [ 0.90383413, -0.69853366, -0.54892799],\n",
       "        [ 1.19172085, -0.92364863,  1.04206479],\n",
       "        [ 0.62161496, -0.86984641, -1.12811002],\n",
       "        [-2.66051518,  0.55359597, -0.00758642],\n",
       "        [ 0.85928343, -2.55910734,  0.02505769],\n",
       "        [-0.01592391, -0.50790517,  0.70661371],\n",
       "        [ 0.02136944,  0.78280096,  0.18860231]]])"
      ]
     },
     "execution_count": 69,
     "metadata": {},
     "output_type": "execute_result"
    }
   ],
   "source": [
    "import numpy as np\n",
    "np.random.randn(1,10,3)"
   ]
  },
  {
   "cell_type": "markdown",
   "metadata": {},
   "source": [
    "<h3>Example #3 - numpy.random.bytes</h3>\n",
    "\n",
    "<i> Return random bytes. </i>\n"
   ]
  },
  {
   "cell_type": "markdown",
   "metadata": {},
   "source": [
    "In this example, we simply call the np.random.bytes function and pass it a parameter which defines the number of random bytes to generate. In our example, we use 10 and a string with a length of 10 bytes is returned.\n"
   ]
  },
  {
   "cell_type": "code",
   "execution_count": 70,
   "metadata": {},
   "outputs": [
    {
     "data": {
      "text/plain": [
       "b'\\x9c\\x94\\xcfA\\xd8\\xdd\\x17\\xaf\\xc1\\x94'"
      ]
     },
     "execution_count": 70,
     "metadata": {},
     "output_type": "execute_result"
    }
   ],
   "source": [
    "import numpy as np\n",
    "\n",
    "np.random.bytes(10)"
   ]
  },
  {
   "cell_type": "markdown",
   "metadata": {},
   "source": [
    "<h1>Permutations</h1>"
   ]
  },
  {
   "cell_type": "markdown",
   "metadata": {},
   "source": [
    "In mathematics, the notion of permutation relates to the act of arranging all the members of a set into some sequence or order, or if the set is already ordered, rearranging (reordering) its elements, a process called permuting. There are only 2 functions in the permutations section. They are <i>shuffle</i> and <i>permutation</i>."
   ]
  },
  {
   "cell_type": "markdown",
   "metadata": {},
   "source": [
    "<h3>Example #1 - numpy.random.shuffle</h3>\n",
    "\n",
    "<i> Modify a sequence in-place by shuffling its contents.</i>\n"
   ]
  },
  {
   "cell_type": "code",
   "execution_count": 71,
   "metadata": {},
   "outputs": [
    {
     "name": "stdout",
     "output_type": "stream",
     "text": [
      "[ 1  2  3  4  5  6  7  8  9 10 11 12 13 14 15 16 17 18 19 20]\n"
     ]
    }
   ],
   "source": [
    "arrangedArray = np.arange(1,21,1)\n",
    "print(arrangedArray)"
   ]
  },
  {
   "cell_type": "markdown",
   "metadata": {},
   "source": [
    "First we create an array to shuffle. To properly demonstrate the shuffling, we will generate an array using <i>np.arrange</i>. This function is not included in the numpy random package. It returns an array of evenly spaced values. We can first declare the range with out first two parameters and the spacing with the 3rd parameter. Let's shuffle the array we just generated."
   ]
  },
  {
   "cell_type": "code",
   "execution_count": 72,
   "metadata": {},
   "outputs": [
    {
     "name": "stdout",
     "output_type": "stream",
     "text": [
      "[11  2  3  8  5 14  1 10 12 18 20 13 19  4 16 15  7  6  9 17]\n"
     ]
    }
   ],
   "source": [
    "import numpy as np\n",
    "\n",
    "# Create our arranged array like above\n",
    "arrangedArray = np.arange(1,21,1)\n",
    "\n",
    "# Shuffle the arranged array\n",
    "np.random.shuffle(arrangedArray)\n",
    "\n",
    "# Print the shuffled array\n",
    "print(arrangedArray)"
   ]
  },
  {
   "cell_type": "markdown",
   "metadata": {},
   "source": [
    "In the above example, we can see that the array is no longer arranged sequentially, but instead has been shuffled. It's important to remember this function only shuffles the array along the first axis of a multi-dimensional array. Let's see what I mean by this. "
   ]
  },
  {
   "cell_type": "code",
   "execution_count": 73,
   "metadata": {},
   "outputs": [
    {
     "name": "stdout",
     "output_type": "stream",
     "text": [
      "[[4 5 6]\n",
      " [7 8 9]\n",
      " [1 2 3]]\n"
     ]
    }
   ],
   "source": [
    "import numpy as np\n",
    "\n",
    "# Create our arranged array like above\n",
    "arrangedArray = np.arange(1,10,1).reshape((3, 3))\n",
    "\n",
    "# Shuffle the arranged array\n",
    "np.random.shuffle(arrangedArray)\n",
    "\n",
    "# Print the shuffled array\n",
    "print(arrangedArray)"
   ]
  },
  {
   "cell_type": "markdown",
   "metadata": {},
   "source": [
    "Using the <i>reshape</i> function, we can reshapre our 1-dimensional array into a 3-dimensional one. Now can we see what we talked about above. Only the axis of the array was shuffled, not the contents of the array."
   ]
  },
  {
   "cell_type": "markdown",
   "metadata": {},
   "source": [
    "<h3>Example #2 - numpy.random.permutation</h3>\n",
    "\n",
    "<i> Randomly permute a sequence, or return a permuted range.</i>\n",
    "\n"
   ]
  },
  {
   "cell_type": "code",
   "execution_count": 74,
   "metadata": {},
   "outputs": [
    {
     "data": {
      "text/plain": [
       "array([5, 6, 2, 0, 4, 9, 1, 8, 3, 7])"
      ]
     },
     "execution_count": 74,
     "metadata": {},
     "output_type": "execute_result"
    }
   ],
   "source": [
    "import numpy as np\n",
    "\n",
    "np.random.permutation(10)"
   ]
  },
  {
   "cell_type": "markdown",
   "metadata": {},
   "source": [
    "The function <i>np.random.permutation</i> works in a similar way to our above example such that it combines the operations of <i>np.arange</i> and <i>np.random.shuffle</i> into the same function. In the above example, we generate a 1-dimensional array of 10 numbers and permute them. There isn't much more to say about this function except that it follows the same rules of only permuting the axes of a multi-dimensional array and not the values."
   ]
  },
  {
   "cell_type": "markdown",
   "metadata": {},
   "source": [
    "<h1>Distributions</h1>\n",
    "\n",
    "The world of statistics includes dozens of different distributions for categorical and numerical data; the most common ones have their own names. The distribution of a statistical data set (or a population) is a listing or function showing all the possible values (or intervals) of the data and how often they occur. When a distribution of categorical data is organized, you see the number or percentage of individuals in each group. When a distribution of numerical data is organized, they’re often ordered from smallest to largest, broken into reasonably sized groups (if appropriate), and then put into graphs and charts to examine the shape, center, and amount of variability in the data.\n",
    "\n",
    "In the numpy.random package there are <b><i>35</i><b> different distributions that can be used. In the below examples, we will talk about a couple of the more common ones and describe their appropriate uses.\n",
    "\n"
   ]
  },
  {
   "cell_type": "markdown",
   "metadata": {},
   "source": [
    "<h3>Example #1 - numpy.random.normal</h3>\n",
    "\n",
    "<i> Draw random samples from a normal (Gaussian) distribution.</i>\n"
   ]
  },
  {
   "cell_type": "markdown",
   "metadata": {},
   "source": [
    "Also known as the bell curve, the Gaussian or normal distribution is one of the most commonly used distributions in statistics. Let's jump straight into an example. <b>Note</b> We will be using the <i>seaborn</i> package in conjunction with the numpy and <i>matplotlib.pyplot</i> to show our graphs and plots."
   ]
  },
  {
   "cell_type": "code",
   "execution_count": 86,
   "metadata": {
    "scrolled": false
   },
   "outputs": [
    {
     "data": {
      "image/png": "[encoded data removed]",
      "text/plain": [
       "<Figure size 432x288 with 1 Axes>"
      ]
     },
     "metadata": {
      "needs_background": "light"
     },
     "output_type": "display_data"
    }
   ],
   "source": [
    "import numpy as np\n",
    "import matplotlib.pyplot as plt\n",
    "import seaborn as sea\n",
    "\n",
    "x = np.random.normal(size=10000)\n",
    "sea.distplot(x);\n"
   ]
  },
  {
   "cell_type": "markdown",
   "metadata": {},
   "source": [
    "In the above plot, we can see the normal distribution and it's <i>bell curve</i> shape. Let's look at some other distributions found in the random package."
   ]
  },
  {
   "cell_type": "markdown",
   "metadata": {},
   "source": [
    "<h3>Example #2 - numpy.random.triangular</h3>\n",
    "\n",
    "<i> Draw samples from the triangular distribution over the interval [left, right].</i>"
   ]
  },
  {
   "cell_type": "markdown",
   "metadata": {},
   "source": [
    "The triangular distribution is a continuous probability distribution with lower limit left, peak at mode, and upper limit right."
   ]
  },
  {
   "cell_type": "code",
   "execution_count": 90,
   "metadata": {},
   "outputs": [
    {
     "data": {
      "text/plain": [
       "<matplotlib.axes._subplots.AxesSubplot at 0x18eaef70>"
      ]
     },
     "execution_count": 90,
     "metadata": {},
     "output_type": "execute_result"
    },
    {
     "data": {
      "image/png": "[encoded data removed]",
      "text/plain": [
       "<Figure size 432x288 with 1 Axes>"
      ]
     },
     "metadata": {
      "needs_background": "light"
     },
     "output_type": "display_data"
    }
   ],
   "source": [
    "import numpy as np\n",
    "import matplotlib.pyplot as plt\n",
    "import seaborn as sea\n",
    "\n",
    "x =np.random.triangular(1, 5, 6, 10000)\n",
    "\n",
    "sea.distplot(x)"
   ]
  },
  {
   "cell_type": "markdown",
   "metadata": {},
   "source": [
    "We can define the lower limit left, peak and upper limit right withing our parameters as well as the scale of our graph. In our example, we use <i>1</i> as the left limit, "
   ]
  }
 ],
 "metadata": {
  "kernelspec": {
   "display_name": "Python 3",
   "language": "python",
   "name": "python3"
  },
  "language_info": {
   "codemirror_mode": {
    "name": "ipython",
    "version": 3
   },
   "file_extension": ".py",
   "mimetype": "text/x-python",
   "name": "python",
   "nbconvert_exporter": "python",
   "pygments_lexer": "ipython3",
   "version": "3.6.5"
  }
 },
 "nbformat": 4,
 "nbformat_minor": 2
}
