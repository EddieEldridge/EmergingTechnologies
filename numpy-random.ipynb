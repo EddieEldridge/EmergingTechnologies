{
 "cells": [
  {
   "cell_type": "markdown",
   "metadata": {},
   "source": [
    "<h1><center> About the NumPy 'random' package</center></h1>\n",
    "<img src=\"https://upload.wikimedia.org/wikipedia/commons/thumb/1/1a/NumPy_logo.svg/1200px-NumPy_logo.svg.png\",width=300,height=60>"
   ]
  },
  {
   "cell_type": "markdown",
   "metadata": {},
   "source": [
    "NumPy is the fundamental libray for scientific computing with Python. The random package found in the NumPy library is mainly used for generating/randomzing data. By looking at the package documentation [here](https://docs.scipy.org/doc/numpy-1.15.1/reference/routines.random.html) we can see the package is broken down into 4 sections.\n",
    "\n",
    "* Simple random data \n",
    "* Permutations \n",
    "* Distributions\n",
    "* Random generator\n",
    " \n",
    "I will break this notebook into 4 sections based on these headings, showing and explaining examples of functions in each section.\n",
    "\n"
   ]
  },
  {
   "cell_type": "markdown",
   "metadata": {},
   "source": [
    "<h1>Simple random data</h1>\n"
   ]
  },
  {
   "cell_type": "markdown",
   "metadata": {},
   "source": [
    "<h3>Example #1 - numpy.random.rand</h3>\n",
    "\n",
    "<i> Random values in a given shape.</i>\n",
    "\n"
   ]
  },
  {
   "cell_type": "code",
   "execution_count": 17,
   "metadata": {},
   "outputs": [
    {
     "data": {
      "text/plain": [
       "array([[[0.47911989, 0.10583636, 0.91206091],\n",
       "        [0.94436639, 0.83964322, 0.53651562],\n",
       "        [0.40224021, 0.62178262, 0.31404764],\n",
       "        [0.89104063, 0.82697979, 0.53932385],\n",
       "        [0.12979217, 0.60718553, 0.63554942],\n",
       "        [0.09867085, 0.24409053, 0.75393191],\n",
       "        [0.24611855, 0.9955065 , 0.88962145],\n",
       "        [0.33195301, 0.55914187, 0.30604318],\n",
       "        [0.10825848, 0.19571025, 0.05461612],\n",
       "        [0.60846021, 0.41742121, 0.98990792]]])"
      ]
     },
     "execution_count": 17,
     "metadata": {},
     "output_type": "execute_result"
    }
   ],
   "source": [
    "import numpy as np\n",
    "np.random.rand(1,10,3)"
   ]
  },
  {
   "cell_type": "markdown",
   "metadata": {},
   "source": [
    "In this very basic example, we import the NumPy library and the random package so we can use them in our code. We then use the most basic function in the random package, 'rand'. This takes three arguments. The first two numbers are the range from which we want to generate random numbers. In our case, only numbers between 1 and 10 will be generated. The third argument dictates the dimensions of our array. In our case, i've chosen 3 to properly illustrate this point. \n",
    " "
   ]
  },
  {
   "cell_type": "markdown",
   "metadata": {},
   "source": [
    "It's important to remember different functions use different distributions to generate random numbers. In the above example, a uniform distribution is used."
   ]
  },
  {
   "cell_type": "markdown",
   "metadata": {},
   "source": [
    "<h3>Example #2 - numpy.random.randn</h3>\n",
    "\n",
    "<i> Return a sample (or samples) from the “standard normal” distribution. </i>"
   ]
  },
  {
   "cell_type": "markdown",
   "metadata": {},
   "source": [
    "In this example, we perform the same operation but instead use a <i>standard normal</i> or <i>Gaussian</i> distribution to generate the values. We will talk about distributions in more detail later on."
   ]
  },
  {
   "cell_type": "code",
   "execution_count": 18,
   "metadata": {
    "scrolled": true
   },
   "outputs": [
    {
     "data": {
      "text/plain": [
       "array([[[ 0.38605741, -1.68091287,  0.07349189],\n",
       "        [-0.75680914, -0.57645836,  0.45813712],\n",
       "        [-0.53352238, -1.71844246, -1.60961142],\n",
       "        [-0.07183777,  0.74750614, -1.0618746 ],\n",
       "        [ 0.4036562 , -0.50744308, -1.14172974],\n",
       "        [-0.00954037, -0.46892038,  1.42608579],\n",
       "        [ 0.6543523 ,  1.35062164,  0.15132112],\n",
       "        [ 1.59494836,  0.01704294, -0.42760438],\n",
       "        [-0.68452931, -0.37898961,  0.30840187],\n",
       "        [-0.06640106,  2.26397334, -2.02446395]]])"
      ]
     },
     "execution_count": 18,
     "metadata": {},
     "output_type": "execute_result"
    }
   ],
   "source": [
    "import numpy as np\n",
    "np.random.randn(1,10,3)"
   ]
  },
  {
   "cell_type": "markdown",
   "metadata": {},
   "source": [
    "<h3>Example #3 - numpy.random.bytes</h3>\n",
    "\n",
    "<i> Return random bytes. </i>\n"
   ]
  },
  {
   "cell_type": "markdown",
   "metadata": {},
   "source": [
    "In this example, we simply call the np.random.bytes function and pass it a parameter which defines the number of random bytes to generate. In our example, we use 10 and a string with a length of 10 bytes is returned.\n"
   ]
  },
  {
   "cell_type": "code",
   "execution_count": 19,
   "metadata": {},
   "outputs": [
    {
     "data": {
      "text/plain": [
       "b'\\x1d\\xd9\\xa5\\xb4\\x97d\\x92l\\x90\\xb1'"
      ]
     },
     "execution_count": 19,
     "metadata": {},
     "output_type": "execute_result"
    }
   ],
   "source": [
    "import numpy as np\n",
    "\n",
    "np.random.bytes(10)"
   ]
  },
  {
   "cell_type": "markdown",
   "metadata": {},
   "source": [
    "<h1>Permutations</h1>"
   ]
  },
  {
   "cell_type": "code",
   "execution_count": null,
   "metadata": {},
   "outputs": [],
   "source": []
  }
 ],
 "metadata": {
  "kernelspec": {
   "display_name": "Python 3",
   "language": "python",
   "name": "python3"
  },
  "language_info": {
   "codemirror_mode": {
    "name": "ipython",
    "version": 3
   },
   "file_extension": ".py",
   "mimetype": "text/x-python",
   "name": "python",
   "nbconvert_exporter": "python",
   "pygments_lexer": "ipython3",
   "version": "3.6.5"
  }
 },
 "nbformat": 4,
 "nbformat_minor": 2
}
