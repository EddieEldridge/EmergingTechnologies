{
 "cells": [
  {
   "cell_type": "markdown",
   "metadata": {},
   "source": [
    "<h1> About the NumPy 'random' package</h1>\n"
   ]
  },
  {
   "cell_type": "markdown",
   "metadata": {},
   "source": [
    "NumPy is the fundamental libray for scientific computing with Python. The random package found in the NumPy library is mainly used for generating/randomzing data. By looking at the package documentation [here](https://docs.scipy.org/doc/numpy-1.15.1/reference/routines.random.html) we can see the package is broken down into 4 sections.\n",
    "\n",
    "* Simple random data \n",
    "* Permutations \n",
    "* Distributions\n",
    "* Random generator\n",
    " \n",
    "I will break this notebook into 4 sections based on these headings, showing and explaining examples of functions in each section.\n",
    "\n"
   ]
  },
  {
   "cell_type": "markdown",
   "metadata": {},
   "source": [
    "<h2>Simple random data</h2>\n"
   ]
  },
  {
   "cell_type": "markdown",
   "metadata": {},
   "source": [
    "<b>Example #1 - numpy.random.rand</b>"
   ]
  },
  {
   "cell_type": "code",
   "execution_count": 27,
   "metadata": {},
   "outputs": [
    {
     "data": {
      "text/plain": [
       "array([[[0.42882235, 0.94978783, 0.72706956, 0.05352032],\n",
       "        [0.40959435, 0.90192995, 0.38170006, 0.44009536],\n",
       "        [0.88393747, 0.75009324, 0.36242797, 0.49839084],\n",
       "        [0.0856101 , 0.24969735, 0.9258544 , 0.19904261],\n",
       "        [0.81130076, 0.84718018, 0.7149216 , 0.63594221],\n",
       "        [0.92298697, 0.49725161, 0.74921539, 0.06183456],\n",
       "        [0.0985641 , 0.53533451, 0.47015082, 0.02487227],\n",
       "        [0.99114791, 0.65183534, 0.21953605, 0.85152953],\n",
       "        [0.16572692, 0.50164101, 0.59341446, 0.24889261],\n",
       "        [0.87146508, 0.79743114, 0.76702758, 0.24487329]]])"
      ]
     },
     "execution_count": 27,
     "metadata": {},
     "output_type": "execute_result"
    }
   ],
   "source": [
    "# Import the numpy library as 'np'\n",
    "import numpy as np\n",
    "# Import the random package from the numpy library as 'rand'\n",
    "import numpy.random as rand\n",
    "\n",
    "np.random.rand(1,10, 4)"
   ]
  },
  {
   "cell_type": "markdown",
   "metadata": {},
   "source": [
    "In this very basic example, we import the NumPy library and the random package so we can use them in our code. We then use the most basic function in the random package, 'rand'. This takes three arguments. The first two numbers are the range from which we want to generate random numbers. In our case, only numbers between 1 and 10 will be generated. The third argument dictates the dimensions of our array. In our case, i've chosen 4 to properly illustrate this point. \n",
    " "
   ]
  },
  {
   "cell_type": "markdown",
   "metadata": {},
   "source": [
    "It's important to remember different functions use different distributions to generate random numbers. In the above example, a normal distribution is used."
   ]
  }
 ],
 "metadata": {
  "kernelspec": {
   "display_name": "Python 3",
   "language": "python",
   "name": "python3"
  },
  "language_info": {
   "codemirror_mode": {
    "name": "ipython",
    "version": 3
   },
   "file_extension": ".py",
   "mimetype": "text/x-python",
   "name": "python",
   "nbconvert_exporter": "python",
   "pygments_lexer": "ipython3",
   "version": "3.6.5"
  }
 },
 "nbformat": 4,
 "nbformat_minor": 2
}
