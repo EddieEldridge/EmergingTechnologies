{
 "cells": [
  {
   "attachments": {},
   "cell_type": "markdown",
   "metadata": {},
   "source": [
    "<h1><center> About the NumPy 'random' package</center></h1>\n",
    "<img src=\"https://upload.wikimedia.org/wikipedia/commons/thumb/1/1a/NumPy_logo.svg/1200px-NumPy_logo.svg.png\",width=300,height=60>"
   ]
  },
  {
   "cell_type": "markdown",
   "metadata": {},
   "source": [
    "NumPy is the fundamental libray for scientific computing with Python. The random package found in the NumPy library is mainly used for generating/randomzing data. By looking at the package documentation [here](https://docs.scipy.org/doc/numpy-1.15.1/reference/routines.random.html) we can see the package is broken down into 4 sections.\n",
    "\n",
    "* Simple random data \n",
    "* Permutations \n",
    "* Distributions\n",
    "* Random generator\n",
    " \n",
    "I will break this notebook into 4 sections based on these headings, showing and explaining examples of functions in each section.\n",
    "\n"
   ]
  },
  {
   "cell_type": "markdown",
   "metadata": {},
   "source": [
    "<h2>Simple random data</h2>\n"
   ]
  },
  {
   "cell_type": "markdown",
   "metadata": {},
   "source": [
    "<h3>Example #1 - numpy.random.rand</h3>\n",
    "\n",
    "<i> Random values in a given shape.</i>\n",
    "\n"
   ]
  },
  {
   "cell_type": "code",
   "execution_count": 39,
   "metadata": {},
   "outputs": [
    {
     "data": {
      "text/plain": [
       "array([[[0.79744491, 0.57866537, 0.69589972],\n",
       "        [0.5551425 , 0.61137379, 0.36404467],\n",
       "        [0.42588335, 0.95731789, 0.48601081],\n",
       "        [0.13605337, 0.0679224 , 0.57736259],\n",
       "        [0.88965872, 0.45300484, 0.49817806],\n",
       "        [0.60124528, 0.87392499, 0.62026088],\n",
       "        [0.84367102, 0.23330387, 0.14767903],\n",
       "        [0.83987699, 0.65836564, 0.57373733],\n",
       "        [0.65072994, 0.32302494, 0.1337991 ],\n",
       "        [0.41127099, 0.07951911, 0.74578352]]])"
      ]
     },
     "execution_count": 39,
     "metadata": {},
     "output_type": "execute_result"
    }
   ],
   "source": [
    "np.random.rand(1,10,3)"
   ]
  },
  {
   "cell_type": "markdown",
   "metadata": {},
   "source": [
    "In this very basic example, we import the NumPy library and the random package so we can use them in our code. We then use the most basic function in the random package, 'rand'. This takes three arguments. The first two numbers are the range from which we want to generate random numbers. In our case, only numbers between 1 and 10 will be generated. The third argument dictates the dimensions of our array. In our case, i've chosen 3 to properly illustrate this point. \n",
    " "
   ]
  },
  {
   "cell_type": "markdown",
   "metadata": {},
   "source": [
    "It's important to remember different functions use different distributions to generate random numbers. In the above example, a uniform distribution is used."
   ]
  },
  {
   "cell_type": "markdown",
   "metadata": {},
   "source": [
    "<h3>Example #2 - numpy.random.randn</h3>\n",
    "\n",
    "<i> Return a sample (or samples) from the “standard normal” distribution. </i>"
   ]
  },
  {
   "cell_type": "markdown",
   "metadata": {},
   "source": [
    "In this example we perform the same operation but instead use a <i>standard normal</i> or <i>Gaussian</i> distribution to generate the values. We will talk about distributions in more detail later on."
   ]
  },
  {
   "cell_type": "code",
   "execution_count": 40,
   "metadata": {
    "scrolled": true
   },
   "outputs": [
    {
     "data": {
      "text/plain": [
       "array([[[ 0.38974132,  0.70690401, -1.13839052],\n",
       "        [ 0.11322411,  1.77465883,  1.6766306 ],\n",
       "        [ 1.73412398,  1.46200757,  0.16928259],\n",
       "        [ 2.26397424, -0.81085145, -1.88189588],\n",
       "        [ 0.47464039,  0.50502451,  2.24942841],\n",
       "        [-0.68660145,  0.71518525, -0.91420636],\n",
       "        [ 0.87985716, -1.09201246,  0.15836297],\n",
       "        [ 0.70377844, -0.29929629,  0.99054508],\n",
       "        [-0.53771691,  0.05236448, -2.50221362],\n",
       "        [-0.82485782, -0.1260499 , -0.35476447]]])"
      ]
     },
     "execution_count": 40,
     "metadata": {},
     "output_type": "execute_result"
    }
   ],
   "source": [
    "np.random.randn(1,10,3)"
   ]
  },
  {
   "cell_type": "markdown",
   "metadata": {},
   "source": [
    "Let's plot both our generated arrays so we can more clearly see the difference."
   ]
  },
  {
   "cell_type": "code",
   "execution_count": 67,
   "metadata": {
    "scrolled": true
   },
   "outputs": [
    {
     "data": {
      "image/png": "[encoded data removed]",
      "text/plain": [
       "<Figure size 432x288 with 1 Axes>"
      ]
     },
     "metadata": {
      "needs_background": "light"
     },
     "output_type": "display_data"
    },
    {
     "data": {
      "image/png": "[encoded data removed]",
      "text/plain": [
       "<Figure size 432x288 with 1 Axes>"
      ]
     },
     "metadata": {
      "needs_background": "light"
     },
     "output_type": "display_data"
    }
   ],
   "source": [
    "x = np.random.normal(1,10,5)\n",
    "y = np.random.uniform(1,10,5)\n",
    "\n",
    "plt.plot(x)\n",
    "plt.show()\n",
    "\n",
    "plt.plot(y)\n",
    "plt.show()\n"
   ]
  },
  {
   "cell_type": "code",
   "execution_count": null,
   "metadata": {},
   "outputs": [],
   "source": []
  }
 ],
 "metadata": {
  "kernelspec": {
   "display_name": "Python 3",
   "language": "python",
   "name": "python3"
  },
  "language_info": {
   "codemirror_mode": {
    "name": "ipython",
    "version": 3
   },
   "file_extension": ".py",
   "mimetype": "text/x-python",
   "name": "python",
   "nbconvert_exporter": "python",
   "pygments_lexer": "ipython3",
   "version": "3.6.5"
  }
 },
 "nbformat": 4,
 "nbformat_minor": 2
}
