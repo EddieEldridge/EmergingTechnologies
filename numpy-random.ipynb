{
 "cells": [
  {
   "cell_type": "markdown",
   "metadata": {},
   "source": [
    "<h1><center> About the NumPy 'random' package</center></h1>\n",
    "<img src=\"https://upload.wikimedia.org/wikipedia/commons/thumb/1/1a/NumPy_logo.svg/1200px-NumPy_logo.svg.png\",width=300,height=60>"
   ]
  },
  {
   "cell_type": "markdown",
   "metadata": {},
   "source": [
    "NumPy is the fundamental libray for scientific computing with Python. The random package found in the NumPy library is mainly used for generating/randomzing data. By looking at the package documentation [here](https://docs.scipy.org/doc/numpy-1.15.1/reference/routines.random.html) we can see the package is broken down into 4 sections.\n",
    "\n",
    "* Simple random data \n",
    "* Permutations \n",
    "* Distributions\n",
    "* Random generator\n",
    " \n",
    "I will break this notebook into 4 sections based on these headings, showing and explaining examples of functions in each section.\n",
    "\n"
   ]
  },
  {
   "cell_type": "markdown",
   "metadata": {},
   "source": [
    "<h1>Simple random data</h1>\n"
   ]
  },
  {
   "cell_type": "markdown",
   "metadata": {},
   "source": [
    "<h3>Example #1 - numpy.random.rand</h3>\n",
    "\n",
    "<i> Random values in a given shape.</i>\n",
    "\n"
   ]
  },
  {
   "cell_type": "code",
   "execution_count": 128,
   "metadata": {},
   "outputs": [
    {
     "data": {
      "text/plain": [
       "array([[[0.85352894, 0.73242269, 0.32157286],\n",
       "        [0.22540851, 0.09275706, 0.06369651],\n",
       "        [0.95597994, 0.65501105, 0.37100932],\n",
       "        [0.46508671, 0.78818518, 0.19765651],\n",
       "        [0.82368145, 0.2761512 , 0.9439933 ],\n",
       "        [0.66697865, 0.98622031, 0.97181207],\n",
       "        [0.00676543, 0.86968422, 0.76863031],\n",
       "        [0.65848773, 0.0953012 , 0.65199287],\n",
       "        [0.57844764, 0.72472782, 0.97152707],\n",
       "        [0.14700176, 0.62175061, 0.66306391]]])"
      ]
     },
     "execution_count": 128,
     "metadata": {},
     "output_type": "execute_result"
    }
   ],
   "source": [
    "import numpy as np\n",
    "np.random.rand(1,10,3)"
   ]
  },
  {
   "cell_type": "markdown",
   "metadata": {},
   "source": [
    "In this very basic example, we import the NumPy library and the random package so we can use them in our code. We then use the most basic function in the random package, 'rand'. This takes three arguments. The first two numbers are the range from which we want to generate random numbers. In our case, only numbers between 1 and 10 will be generated. The third argument dictates the dimensions of our array. In our case, i've chosen 3 to properly illustrate this point. \n",
    " "
   ]
  },
  {
   "cell_type": "markdown",
   "metadata": {},
   "source": [
    "It's important to remember different functions use different distributions to generate random numbers. In the above example, a uniform distribution is used."
   ]
  },
  {
   "cell_type": "markdown",
   "metadata": {},
   "source": [
    "<h3>Example #2 - numpy.random.randn</h3>\n",
    "\n",
    "<i> Return a sample (or samples) from the “standard normal” distribution. </i>"
   ]
  },
  {
   "cell_type": "markdown",
   "metadata": {},
   "source": [
    "In this example, we perform the same operation but instead use a <i>standard normal</i> or <i>Gaussian</i> distribution to generate the values. We will talk about distributions in more detail later on."
   ]
  },
  {
   "cell_type": "code",
   "execution_count": 129,
   "metadata": {
    "scrolled": true
   },
   "outputs": [
    {
     "data": {
      "text/plain": [
       "array([[[-1.60625093, -0.78501132,  1.28206841],\n",
       "        [-0.08820859, -0.32853499,  0.64182274],\n",
       "        [ 1.01450303, -0.11606132,  1.83827808],\n",
       "        [-0.27645161,  1.21813835,  0.79370444],\n",
       "        [-1.46984984,  0.773211  , -0.27811905],\n",
       "        [ 1.32470619, -0.3052483 ,  0.87433775],\n",
       "        [-0.53229839,  1.51188861,  1.41717886],\n",
       "        [-0.20272049, -0.05498709, -0.05547001],\n",
       "        [ 1.59159434,  0.94507163, -1.60260909],\n",
       "        [ 3.05263133,  2.37105303, -0.64887017]]])"
      ]
     },
     "execution_count": 129,
     "metadata": {},
     "output_type": "execute_result"
    }
   ],
   "source": [
    "import numpy as np\n",
    "np.random.randn(1,10,3)"
   ]
  },
  {
   "cell_type": "markdown",
   "metadata": {},
   "source": [
    "<h3>Example #3 - numpy.random.bytes</h3>\n",
    "\n",
    "<i> Return random bytes. </i>\n"
   ]
  },
  {
   "cell_type": "markdown",
   "metadata": {},
   "source": [
    "In this example, we simply call the np.random.bytes function and pass it a parameter which defines the number of random bytes to generate. In our example, we use 10 and a string with a length of 10 bytes is returned.\n"
   ]
  },
  {
   "cell_type": "code",
   "execution_count": 130,
   "metadata": {},
   "outputs": [
    {
     "data": {
      "text/plain": [
       "b'\\xe9\\xe0t\\xf9\\xd6\\xbf\\x03\\x03\\xf09'"
      ]
     },
     "execution_count": 130,
     "metadata": {},
     "output_type": "execute_result"
    }
   ],
   "source": [
    "import numpy as np\n",
    "\n",
    "np.random.bytes(10)"
   ]
  },
  {
   "cell_type": "markdown",
   "metadata": {},
   "source": [
    "<h1>Permutations</h1>"
   ]
  },
  {
   "cell_type": "markdown",
   "metadata": {},
   "source": [
    "In mathematics, the notion of permutation relates to the act of arranging all the members of a set into some sequence or order, or if the set is already ordered, rearranging (reordering) its elements, a process called permuting. There are only 2 functions in the permutations section. They are <i>shuffle</i> and <i>permutation</i>."
   ]
  },
  {
   "cell_type": "markdown",
   "metadata": {},
   "source": [
    "<h3>Example #1 - numpy.random.shuffle</h3>\n",
    "\n",
    "<i> Modify a sequence in-place by shuffling its contents.</i>\n"
   ]
  },
  {
   "cell_type": "code",
   "execution_count": 131,
   "metadata": {},
   "outputs": [
    {
     "name": "stdout",
     "output_type": "stream",
     "text": [
      "[ 1  2  3  4  5  6  7  8  9 10 11 12 13 14 15 16 17 18 19 20]\n"
     ]
    }
   ],
   "source": [
    "arrangedArray = np.arange(1,21,1)\n",
    "print(arrangedArray)"
   ]
  },
  {
   "cell_type": "markdown",
   "metadata": {},
   "source": [
    "First we create an array to shuffle. To properly demonstrate the shuffling, we will generate an array using <i>np.arrange</i>. This function is not included in the numpy random package. It returns an array of evenly spaced values. We can first declare the range with out first two parameters and the spacing with the 3rd parameter. Let's shuffle the array we just generated."
   ]
  },
  {
   "cell_type": "code",
   "execution_count": 132,
   "metadata": {},
   "outputs": [
    {
     "name": "stdout",
     "output_type": "stream",
     "text": [
      "[ 3 18 13 17 19 16  2 12 14 10 11  8  9  7  6 20  4  5 15  1]\n"
     ]
    }
   ],
   "source": [
    "import numpy as np\n",
    "\n",
    "# Create our arranged array like above\n",
    "arrangedArray = np.arange(1,21,1)\n",
    "\n",
    "# Shuffle the arranged array\n",
    "np.random.shuffle(arrangedArray)\n",
    "\n",
    "# Print the shuffled array\n",
    "print(arrangedArray)"
   ]
  },
  {
   "cell_type": "markdown",
   "metadata": {},
   "source": [
    "In the above example, we can see that the array is no longer arranged sequentially, but instead has been shuffled. It's important to remember this function only shuffles the array along the first axis of a multi-dimensional array. Let's see what I mean by this. "
   ]
  },
  {
   "cell_type": "code",
   "execution_count": 133,
   "metadata": {},
   "outputs": [
    {
     "name": "stdout",
     "output_type": "stream",
     "text": [
      "[[4 5 6]\n",
      " [1 2 3]\n",
      " [7 8 9]]\n"
     ]
    }
   ],
   "source": [
    "import numpy as np\n",
    "\n",
    "# Create our arranged array like above\n",
    "arrangedArray = np.arange(1,10,1).reshape((3, 3))\n",
    "\n",
    "# Shuffle the arranged array\n",
    "np.random.shuffle(arrangedArray)\n",
    "\n",
    "# Print the shuffled array\n",
    "print(arrangedArray)"
   ]
  },
  {
   "cell_type": "markdown",
   "metadata": {},
   "source": [
    "Using the <i>reshape</i> function, we can reshapre our 1-dimensional array into a 3-dimensional one. Now can we see what we talked about above. Only the axis of the array was shuffled, not the contents of the array."
   ]
  },
  {
   "cell_type": "markdown",
   "metadata": {},
   "source": [
    "<h3>Example #2 - numpy.random.permutation</h3>\n",
    "\n",
    "<i> Randomly permute a sequence, or return a permuted range.</i>\n",
    "\n"
   ]
  },
  {
   "cell_type": "code",
   "execution_count": 134,
   "metadata": {},
   "outputs": [
    {
     "data": {
      "text/plain": [
       "array([9, 8, 2, 1, 7, 0, 4, 5, 3, 6])"
      ]
     },
     "execution_count": 134,
     "metadata": {},
     "output_type": "execute_result"
    }
   ],
   "source": [
    "import numpy as np\n",
    "\n",
    "np.random.permutation(10)"
   ]
  },
  {
   "cell_type": "markdown",
   "metadata": {},
   "source": [
    "The function <i>np.random.permutation</i> works in a similar way to our above example such that it combines the operations of <i>np.arange</i> and <i>np.random.shuffle</i> into the same function. In the above example, we generate a 1-dimensional array of 10 numbers and permute them. There isn't much more to say about this function except that it follows the same rules of only permuting the axes of a multi-dimensional array and not the values."
   ]
  },
  {
   "cell_type": "markdown",
   "metadata": {},
   "source": [
    "<h1>Distributions</h1>\n",
    "\n",
    "The world of statistics includes dozens of different distributions for categorical and numerical data; the most common ones have their own names. The distribution of a statistical data set (or a population) is a listing or function showing all the possible values (or intervals) of the data and how often they occur. When a distribution of categorical data is organized, you see the number or percentage of individuals in each group. When a distribution of numerical data is organized, they’re often ordered from smallest to largest, broken into reasonably sized groups (if appropriate), and then put into graphs and charts to examine the shape, center, and amount of variability in the data.\n",
    "\n",
    "In the numpy.random package there are <b><i>35</i><b> different distributions that can be used. In the below examples, we will talk about a couple of the more common ones and describe their appropriate uses.\n",
    "\n"
   ]
  },
  {
   "cell_type": "markdown",
   "metadata": {},
   "source": [
    "<h3>Example #1 - numpy.random.normal</h3>\n",
    "\n",
    "<i> Draw random samples from a normal (Gaussian) distribution.</i>\n"
   ]
  },
  {
   "cell_type": "markdown",
   "metadata": {},
   "source": [
    "Also known as the bell curve, the Gaussian or normal distribution is one of the most commonly used distributions in statistics. Let's jump straight into an example. <b>Note</b> We will be using the <i>seaborn</i> package in conjunction with the numpy and <i>matplotlib.pyplot</i> to show our graphs and plots."
   ]
  },
  {
   "cell_type": "code",
   "execution_count": 140,
   "metadata": {
    "scrolled": false
   },
   "outputs": [
    {
     "data": {
      "image/png": "[encoded data removed]",
      "text/plain": [
       "<Figure size 432x288 with 1 Axes>"
      ]
     },
     "metadata": {},
     "output_type": "display_data"
    }
   ],
   "source": [
    "import numpy as np\n",
    "import matplotlib.pyplot as plt\n",
    "import seaborn as sea\n",
    "\n",
    "sea.set(color_codes=True)\n",
    "\n",
    "x = np.random.normal(0.5, 1.0, 10000)\n",
    "sea.distplot(x);\n"
   ]
  },
  {
   "cell_type": "markdown",
   "metadata": {},
   "source": [
    "In the above plot, we can see the normal distribution and it's <i>bell curve</i> shape. We can pass 3 paramaters into the normal function. In our example, we use <i>0.5</i> as the mean, 1.0 as the scale and 10000-Let's look at some other distributions found in the random package."
   ]
  },
  {
   "cell_type": "markdown",
   "metadata": {},
   "source": [
    "<h3>Example #2 - numpy.random.triangular</h3>\n",
    "\n",
    "<i> Draw samples from the triangular distribution over the interval [left, right].</i>"
   ]
  },
  {
   "cell_type": "markdown",
   "metadata": {},
   "source": [
    "The triangular distribution is a continuous probability distribution with lower limit left, peak at mode, and upper limit right."
   ]
  },
  {
   "cell_type": "code",
   "execution_count": 136,
   "metadata": {},
   "outputs": [
    {
     "data": {
      "text/plain": [
       "<matplotlib.axes._subplots.AxesSubplot at 0x3128c330>"
      ]
     },
     "execution_count": 136,
     "metadata": {},
     "output_type": "execute_result"
    },
    {
     "data": {
      "image/png": "[encoded data removed]",
      "text/plain": [
       "<Figure size 432x288 with 1 Axes>"
      ]
     },
     "metadata": {},
     "output_type": "display_data"
    }
   ],
   "source": [
    "import numpy as np\n",
    "import matplotlib.pyplot as plt\n",
    "import seaborn as sea\n",
    "\n",
    "sea.set(color_codes=True)\n",
    "\n",
    "x = np.random.triangular(1, 5, 6, 10000)\n",
    "\n",
    "sea.distplot(x)"
   ]
  },
  {
   "cell_type": "markdown",
   "metadata": {},
   "source": [
    "We can define the lower limit left, peak and upper limit right withing our parameters as well as the scale of our graph. In our example, we use <i>1</i> as the left limit, <i>5</i> as the peak of our triangle and <i>6</i> as the upper limit of our triangle."
   ]
  },
  {
   "cell_type": "markdown",
   "metadata": {},
   "source": [
    "<h3>Example #3 - numpy.random.exponential</h3>\n",
    "\n",
    "<i> Draw samples from an exponential distribution.</i>\n",
    "\n",
    "The exponential distribution is one of the widely used continuous distributions. It is often used to model the time elapsed between events."
   ]
  },
  {
   "cell_type": "code",
   "execution_count": 141,
   "metadata": {
    "scrolled": true
   },
   "outputs": [
    {
     "data": {
      "text/plain": [
       "<matplotlib.axes._subplots.AxesSubplot at 0x31371f30>"
      ]
     },
     "execution_count": 141,
     "metadata": {},
     "output_type": "execute_result"
    },
    {
     "data": {
      "image/png": "[encoded data removed]",
      "text/plain": [
       "<Figure size 432x288 with 1 Axes>"
      ]
     },
     "metadata": {},
     "output_type": "display_data"
    }
   ],
   "source": [
    "import numpy as np\n",
    "import matplotlib.pyplot as plt\n",
    "import seaborn as sea\n",
    "\n",
    "sea.set(color_codes=True)\n",
    "\n",
    "x = np.random.exponential(1.0,10000)\n",
    "\n",
    "sea.distplot(x)"
   ]
  },
  {
   "cell_type": "markdown",
   "metadata": {},
   "source": [
    "In the above example, we pass in two parameters. The first being the scale of our elements and the second being the scale of our graph. I've chosen 1.0 as our scale and 1000 as our size to properly demonstrate the exponential nature of our graph."
   ]
  }
 ],
 "metadata": {
  "kernelspec": {
   "display_name": "Python 3",
   "language": "python",
   "name": "python3"
  },
  "language_info": {
   "codemirror_mode": {
    "name": "ipython",
    "version": 3
   },
   "file_extension": ".py",
   "mimetype": "text/x-python",
   "name": "python",
   "nbconvert_exporter": "python",
   "pygments_lexer": "ipython3",
   "version": "3.6.5"
  }
 },
 "nbformat": 4,
 "nbformat_minor": 2
}
