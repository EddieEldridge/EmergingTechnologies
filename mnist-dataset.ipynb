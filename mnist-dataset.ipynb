{
 "cells": [
  {
   "cell_type": "markdown",
   "metadata": {},
   "source": [
    "<h1><center> About the MNIST dataset</center></h1>"
   ]
  },
  {
   "cell_type": "markdown",
   "metadata": {},
   "source": [
    "![](https://cdn-images-1.medium.com/max/1600/1*1TkgO9Zz6rC3KpAYNl5KfA.png)"
   ]
  },
  {
   "cell_type": "markdown",
   "metadata": {},
   "source": [
    "<h1>What is the MNIST dataset?</h1>"
   ]
  },
  {
   "cell_type": "markdown",
   "metadata": {},
   "source": [
    "The MNIST dataset(<b>M</b>odified <b>N</b>ational <b>I</b>nstitute of <b>S</b>tandards and <b>T</b>echnology database)is a large dataset containing images of handwritten digits, similar to the ones above. It's most commonly used for trainning image processing systems and algorithims. It's based on the <i>NIST</i> dataset and was edited to just be better in general. Some of these changes include the people who wrote the digits as well as normalizing a lot of the digits. The website for the dataset can be found [here](http://yann.lecun.com/exdb/mnist/).\n",
    "\n",
    "# Details\n",
    "* 60,000 training images and 10,000 testing images.\n",
    "* Digits written by high school students and employees of the United States Census Bureau."
   ]
  },
  {
   "cell_type": "markdown",
   "metadata": {},
   "source": [
    "![](https://upload.wikimedia.org/wikipedia/commons/2/27/MnistExamples.png)"
   ]
  },
  {
   "cell_type": "markdown",
   "metadata": {},
   "source": [
    "<h1> 1. Unzip the files</h1>\n"
   ]
  },
  {
   "cell_type": "markdown",
   "metadata": {},
   "source": [
    "The pictures of the numbers are stored as .idx files in a zipped folder. As such, we are going to have to figure out how to handle these files. We need to unzip the folders to get at the data inside as well as figuring out how we are going to read the numbers in a meaningful way. Let's start by unzipping the folders."
   ]
  },
  {
   "cell_type": "markdown",
   "metadata": {},
   "source": [
    "<b>WARNING</b>\n",
    "The files required for this notebook are not included. You should create a folder called 'data' and drop the zip files from [here](http://yann.lecun.com/exdb/mnist/) into it.\n",
    "<b>WARNING</b>"
   ]
  },
  {
   "cell_type": "markdown",
   "metadata": {},
   "source": [
    "The following files are compressed using gzip. Fortunately, Python has a library to help us deal with these gzip files."
   ]
  },
  {
   "cell_type": "code",
   "execution_count": 1,
   "metadata": {
    "scrolled": false
   },
   "outputs": [
    {
     "data": {
      "text/plain": [
       "b'\\x00\\x00\\x08\\x03'"
      ]
     },
     "execution_count": 1,
     "metadata": {},
     "output_type": "execute_result"
    }
   ],
   "source": [
    "# Import gzip to unzip our files\n",
    "import gzip\n",
    "\n",
    "# Using gzip we just import, open the zip files contained in our data folder\n",
    "with gzip.open('data/t10k-images-idx3-ubyte.gz', 'rb') as file:\n",
    "    file_content = file.read()  \n",
    "\n",
    "# Print the first 4 elements of our file to make sure we're opening it properly\n",
    "file_content[0:4]"
   ]
  },
  {
   "cell_type": "markdown",
   "metadata": {},
   "source": [
    "<h1> 2. Read the IDX files</h1>\n"
   ]
  },
  {
   "cell_type": "markdown",
   "metadata": {},
   "source": [
    "Now, to read the IDX files contained in the zipped folders, we can use a package 'idx2numpy' which will convert our idx files into a numpy array."
   ]
  },
  {
   "cell_type": "code",
   "execution_count": 2,
   "metadata": {
    "scrolled": true
   },
   "outputs": [],
   "source": [
    "# Import numpy as np\n",
    "import numpy as np\n",
    "\n",
    "# Import cv2 to save the image\n",
    "import cv2\n",
    "\n",
    "# Take an image from the .idx file found inside the zip file and reshapre into a\n",
    "# 28x28 numpy array as unsigned 8 bit integer\n",
    "image = ~np.array(list(file_content[16:800])).reshape(28,28).astype(np.uint8)"
   ]
  },
  {
   "cell_type": "markdown",
   "metadata": {},
   "source": [
    "Now let's show the image we just took from the .idx file so we can check to see if we are reading in the information properly. We can do this using matplotlib"
   ]
  },
  {
   "cell_type": "code",
   "execution_count": 3,
   "metadata": {},
   "outputs": [
    {
     "data": {
      "text/plain": [
       "<matplotlib.image.AxesImage at 0x2de4692a630>"
      ]
     },
     "execution_count": 3,
     "metadata": {},
     "output_type": "execute_result"
    },
    {
     "data": {
      "image/png": "[encoded data removed]",
      "text/plain": [
       "<Figure size 432x288 with 1 Axes>"
      ]
     },
     "metadata": {
      "needs_background": "light"
     },
     "output_type": "display_data"
    }
   ],
   "source": [
    "%matplotlib inline\n",
    "\n",
    "# Import matplotlib so we can plot the image\n",
    "import matplotlib.pyplot as plt\n",
    "\n",
    "# Show tge image we created above\n",
    "plt.imshow(image, cmap='gray')"
   ]
  },
  {
   "cell_type": "markdown",
   "metadata": {},
   "source": [
    "Now that we know the image is being properly read in, we can save this image to the folder where out Python file is to also check that the files are being save properly."
   ]
  },
  {
   "cell_type": "code",
   "execution_count": 4,
   "metadata": {},
   "outputs": [
    {
     "data": {
      "text/plain": [
       "True"
      ]
     },
     "execution_count": 4,
     "metadata": {},
     "output_type": "execute_result"
    }
   ],
   "source": [
    "# Import cv2 so we can use it to save the image we created above\n",
    "import cv2\n",
    "\n",
    "# Save the image with a name of 'firstImage' using cv2's imwrite function\n",
    "cv2.imwrite('firstImage.png', image)"
   ]
  },
  {
   "cell_type": "markdown",
   "metadata": {},
   "source": [
    "<h1> 3. Save the images</h1>\n",
    "\n",
    "Now that we know how to properly handle the .idx files we need to figure out a way to read all of the images in the .idx file and not just the first one. We can do this by looping over the byes somehow..\n"
   ]
  },
  {
   "cell_type": "code",
   "execution_count": 5,
   "metadata": {},
   "outputs": [
    {
     "data": {
      "text/plain": [
       "<matplotlib.image.AxesImage at 0x2de469c09b0>"
      ]
     },
     "execution_count": 5,
     "metadata": {},
     "output_type": "execute_result"
    },
    {
     "data": {
      "image/png": "[encoded data removed]",
      "text/plain": [
       "<Figure size 432x288 with 1 Axes>"
      ]
     },
     "metadata": {
      "needs_background": "light"
     },
     "output_type": "display_data"
    }
   ],
   "source": [
    "image = ~np.array(list(file_content[800:1584])).reshape(28,28).astype(np.uint8)\n",
    "plt.imshow(image, cmap='gray')"
   ]
  },
  {
   "cell_type": "markdown",
   "metadata": {},
   "source": [
    "Here we are plotting the second image. We have done this as every 784 bytes after the first 16 bytes represents an image in the file."
   ]
  },
  {
   "cell_type": "markdown",
   "metadata": {},
   "source": [
    "Now we can read in every image from the .idx file and save it with an appropriate tag/labl. We start at the 16th byte as bytes 0-16 contain information about the rest of the files. After the first 16 bytes, every 784 bytes after that represents an imaage."
   ]
  },
  {
   "cell_type": "code",
   "execution_count": 11,
   "metadata": {},
   "outputs": [],
   "source": [
    "# Variables\n",
    "bytes1=16\n",
    "bytes2=800\n",
    "\n",
    "# For loop to loop through each image (784 bytes) \n",
    "for x in range(10):\n",
    "    image = ~np.array(list(file_content[bytes1:bytes2])).reshape(28,28).astype(np.uint8)\n",
    "    bytes1+=784\n",
    "    bytes2+=784\n",
    "    cv2.imwrite('train-' + str(x) + '.png', image)"
   ]
  },
  {
   "cell_type": "markdown",
   "metadata": {},
   "source": [
    "We can however save these images along with their proper labels as contained in the label test set .idx file (t10k-labels-idx1-ubyte). So let's open this file and see if we can combine their contents."
   ]
  },
  {
   "cell_type": "code",
   "execution_count": 7,
   "metadata": {
    "scrolled": true
   },
   "outputs": [
    {
     "name": "stdout",
     "output_type": "stream",
     "text": [
      "[7]\n",
      "[2]\n",
      "[1]\n",
      "[0]\n",
      "[4]\n",
      "[1]\n",
      "[4]\n",
      "[9]\n",
      "[5]\n",
      "[9]\n"
     ]
    }
   ],
   "source": [
    "# Import gzip to unzip our files\n",
    "import gzip\n",
    "\n",
    "# Variables\n",
    "bytes1=8\n",
    "bytes2=9\n",
    "\n",
    "# Using gzip we just import, open the zip files contained in our data folder\n",
    "with gzip.open('data/t10k-labels-idx1-ubyte.gz', 'rb') as file_labels:\n",
    "    file_content = file_labels.read()\n",
    "    \n",
    "\n",
    "# For loop to loop through each image (784 bytes) \n",
    "for x in range(10):\n",
    "    labels = np.array(list(file_content[bytes1:bytes2])).astype(np.uint8)\n",
    "    bytes1+=1\n",
    "    bytes2+=1\n",
    "    print(labels)"
   ]
  },
  {
   "attachments": {
    "Capture.PNG": {
     "image/png": "[encoded data removed]"
    }
   },
   "cell_type": "markdown",
   "metadata": {},
   "source": [
    "![Capture.PNG](attachment:Capture.PNG)"
   ]
  },
  {
   "cell_type": "markdown",
   "metadata": {},
   "source": [
    "Now that we have both the labels and the images and we can see they correspond correctly, we can save the images with the corresponding number included in the title of the image."
   ]
  },
  {
   "cell_type": "code",
   "execution_count": 20,
   "metadata": {},
   "outputs": [],
   "source": [
    "# Import gzip to unzip our files\n",
    "import gzip\n",
    "\n",
    "# Import cv2 to save the images\n",
    "import cv2\n",
    "\n",
    "# Variables for Training Image Set\n",
    "trainImagesBytes1=16\n",
    "trainImagesBytes2=800\n",
    "\n",
    "# Variables for Training Labels Set\n",
    "trainLabelsBytes1=8\n",
    "trainLabelsBytes2=9\n",
    "\n",
    "# Using gzip we just imported, open the zip files contained in our data folder\n",
    "with gzip.open('data/t10k-images-idx3-ubyte.gz', 'rb') as file_images:\n",
    "    image_contents = file_images.read()\n",
    "    \n",
    "# Using gzip we just imported, open the zip files contained in our data folder\n",
    "with gzip.open('data/t10k-labels-idx1-ubyte.gz', 'rb') as file_labels:\n",
    "    labels_contents = file_labels.read()\n",
    "\n",
    "# Loop through the images assigning a corresponding label of the the drawn number\n",
    "for x in range(10):\n",
    "        image = ~np.array(list(image_contents[trainImagesBytes1:trainImagesBytes2])).reshape(28,28).astype(np.uint8)\n",
    "        labels = np.array(list(labels_contents[trainLabelsBytes1:trainLabelsBytes2])).astype(np.uint8)\n",
    "        \n",
    "        # Each byte corresponds to a 1 label so increment by 1\n",
    "        trainLabelsBytes1+=1\n",
    "        trainLabelsBytes2+=1\n",
    "        \n",
    "        # Every 784 bytes corresponds to a 1 image so increment by 784\n",
    "        trainImagesBytes1+=784\n",
    "        trainImagesBytes2+=784\n",
    "        \n",
    "        # Save the images with the following format\n",
    "        # E.G train-(0)_[7]\n",
    "        # This means the image is from the training set, is the first image in the set and the drawn image is a 7\n",
    "        cv2.imwrite('train-(' + str(x) + ')' + '_' + str(labels) + '.png', image)"
   ]
  },
  {
   "cell_type": "markdown",
   "metadata": {},
   "source": []
  }
 ],
 "metadata": {
  "kernelspec": {
   "display_name": "Python 3",
   "language": "python",
   "name": "python3"
  },
  "language_info": {
   "codemirror_mode": {
    "name": "ipython",
    "version": 3
   },
   "file_extension": ".py",
   "mimetype": "text/x-python",
   "name": "python",
   "nbconvert_exporter": "python",
   "pygments_lexer": "ipython3",
   "version": "3.6.7"
  }
 },
 "nbformat": 4,
 "nbformat_minor": 2
}
