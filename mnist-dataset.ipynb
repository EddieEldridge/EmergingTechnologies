{
 "cells": [
  {
   "cell_type": "markdown",
   "metadata": {},
   "source": [
    "<h1><center> About the MNIST dataset</center></h1>"
   ]
  },
  {
   "cell_type": "markdown",
   "metadata": {},
   "source": [
    "![](https://cdn-images-1.medium.com/max/1600/1*1TkgO9Zz6rC3KpAYNl5KfA.png)"
   ]
  },
  {
   "cell_type": "markdown",
   "metadata": {},
   "source": [
    "<h1>What is the MNIST dataset?</h1>"
   ]
  },
  {
   "cell_type": "markdown",
   "metadata": {},
   "source": [
    "The MNIST dataset(<b>M</b>odified <b>N</b>ational <b>I</b>nstitute of <b>S</b>tandards and <b>T</b>echnology database)is a large dataset containing images of handwritten digits, similar to the ones above. It's most commonly used for trainning image processing systems and algorithims. It's based on the <i>NIST</i> dataset and was edited to just be better in general. Some of these changes include the people who wrote the digits as well as normalizing a lot of the digits. The website for the dataset can be found [here](http://yann.lecun.com/exdb/mnist/).\n",
    "\n",
    "# Details\n",
    "* 60,000 training images and 10,000 testing images.\n",
    "* Digits written by high school students and employees of the United States Census Bureau."
   ]
  },
  {
   "cell_type": "markdown",
   "metadata": {},
   "source": [
    "![](https://upload.wikimedia.org/wikipedia/commons/2/27/MnistExamples.png)"
   ]
  },
  {
   "cell_type": "markdown",
   "metadata": {},
   "source": [
    "<h1> 1. Unzip the files</h1>\n"
   ]
  },
  {
   "cell_type": "markdown",
   "metadata": {},
   "source": [
    "The pictures of the numbers are stored as .idx files in a zipped folder. As such, we are going to have to figure out how to handle these files. We need to unzip the folders to get at the data inside as well as figuring out how we are going to read the numbers in a meaningful way. Let's start by unzipping the folders."
   ]
  },
  {
   "cell_type": "markdown",
   "metadata": {},
   "source": [
    "<b>WARNING</b>\n",
    "The files required for this notebook are not included. You should create a folder called 'data' and drop the zip files from [here](http://yann.lecun.com/exdb/mnist/) into it.\n",
    "<b>WARNING</b>"
   ]
  },
  {
   "cell_type": "markdown",
   "metadata": {},
   "source": [
    "The following files are compressed using gzip. Fortunately, Python has a library to help us deal with these gzip files."
   ]
  },
  {
   "cell_type": "code",
   "execution_count": 1,
   "metadata": {
    "scrolled": true
   },
   "outputs": [
    {
     "data": {
      "text/plain": [
       "b'\\x00\\x00\\x08\\x01'"
      ]
     },
     "execution_count": 1,
     "metadata": {},
     "output_type": "execute_result"
    }
   ],
   "source": [
    "# Import gzip to unzip our files\n",
    "import gzip\n",
    "\n",
    "# Using gzip we just import, open the zip files contained in our data folder\n",
    "with gzip.open('data/t10k-labels-idx1-ubyte.gz', 'rb') as file:\n",
    "    file_content = file.read()  \n",
    "\n",
    "# Print the first 4 elements of our file to make sure we're opening it properly\n",
    "file_content[0:4]"
   ]
  },
  {
   "cell_type": "markdown",
   "metadata": {},
   "source": [
    "<h1> 2. Read the IDX files</h1>\n"
   ]
  },
  {
   "cell_type": "markdown",
   "metadata": {},
   "source": [
    "Now, to read the IDX files contained in the zipped folders, we can use a package 'idx2numpy' which will convert our idx files into a numpy array."
   ]
  },
  {
   "cell_type": "code",
   "execution_count": 2,
   "metadata": {},
   "outputs": [
    {
     "data": {
      "text/plain": [
       "True"
      ]
     },
     "execution_count": 2,
     "metadata": {},
     "output_type": "execute_result"
    }
   ],
   "source": [
    "# Impor the Python image library\n",
    "import PIL\n",
    "\n",
    "# Import numpy as np\n",
    "import numpy as np\n",
    "\n",
    "# Import cv2 to save the image\n",
    "import cv2\n",
    "\n",
    "image = ~np.array(list(file_content[16:800])).reshape(28,28).astype(np.uint8)\n",
    "\n",
    "cv2.imwrite('firstImage.png', image)"
   ]
  },
  {
   "cell_type": "markdown",
   "metadata": {},
   "source": []
  }
 ],
 "metadata": {
  "kernelspec": {
   "display_name": "Python 3",
   "language": "python",
   "name": "python3"
  },
  "language_info": {
   "codemirror_mode": {
    "name": "ipython",
    "version": 3
   },
   "file_extension": ".py",
   "mimetype": "text/x-python",
   "name": "python",
   "nbconvert_exporter": "python",
   "pygments_lexer": "ipython3",
   "version": "3.6.4"
  }
 },
 "nbformat": 4,
 "nbformat_minor": 2
}
